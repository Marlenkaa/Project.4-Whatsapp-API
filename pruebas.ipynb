{
 "cells": [
  {
   "cell_type": "code",
   "execution_count": 1,
   "metadata": {},
   "outputs": [],
   "source": [
    "import pandas as pd"
   ]
  },
  {
   "cell_type": "code",
   "execution_count": 112,
   "metadata": {},
   "outputs": [],
   "source": [
    "df = pd.read_fwf('./INPUT/whatsapp.txt')"
   ]
  },
  {
   "cell_type": "code",
   "execution_count": 113,
   "metadata": {},
   "outputs": [],
   "source": [
    "df = df.drop(columns=list(df.columns[1:]))"
   ]
  },
  {
   "cell_type": "code",
   "execution_count": 114,
   "metadata": {},
   "outputs": [],
   "source": [
    "df = df.rename(columns={df.columns[0]: 'beginning'})"
   ]
  },
  {
   "cell_type": "code",
   "execution_count": 115,
   "metadata": {},
   "outputs": [],
   "source": [
    "df = df.dropna()"
   ]
  },
  {
   "cell_type": "code",
   "execution_count": 116,
   "metadata": {},
   "outputs": [],
   "source": [
    "df['todrop'] = df['beginning'].apply(lambda x: 'no' if '/' in x else 'yes')"
   ]
  },
  {
   "cell_type": "code",
   "execution_count": 117,
   "metadata": {},
   "outputs": [],
   "source": [
    "noInfo = df[df['todrop'] == 'yes'].index"
   ]
  },
  {
   "cell_type": "code",
   "execution_count": 118,
   "metadata": {},
   "outputs": [],
   "source": [
    "df = df.drop(noInfo)"
   ]
  },
  {
   "cell_type": "code",
   "execution_count": 119,
   "metadata": {},
   "outputs": [],
   "source": [
    "df = df.drop(columns='todrop')"
   ]
  },
  {
   "cell_type": "code",
   "execution_count": 120,
   "metadata": {},
   "outputs": [],
   "source": [
    "df2 = df.beginning.str.split(expand=True)"
   ]
  },
  {
   "cell_type": "code",
   "execution_count": 121,
   "metadata": {},
   "outputs": [],
   "source": [
    "df2 = df2.drop(columns=list(df2.columns[4:]))"
   ]
  },
  {
   "cell_type": "code",
   "execution_count": 122,
   "metadata": {},
   "outputs": [],
   "source": [
    "df2['raw'] = df['beginning']"
   ]
  },
  {
   "cell_type": "code",
   "execution_count": 123,
   "metadata": {},
   "outputs": [],
   "source": [
    "df2 = df2.drop(columns=2)"
   ]
  },
  {
   "cell_type": "code",
   "execution_count": 124,
   "metadata": {},
   "outputs": [],
   "source": [
    "df2[3] = df2[3].astype('str')"
   ]
  },
  {
   "cell_type": "code",
   "execution_count": 125,
   "metadata": {},
   "outputs": [],
   "source": [
    "df2['users'] = df2[3].apply(lambda x: x.replace(\":\", \"\"))"
   ]
  },
  {
   "cell_type": "code",
   "execution_count": 126,
   "metadata": {},
   "outputs": [],
   "source": [
    "chat_users = list(df2['users'].value_counts()[:15].keys())"
   ]
  },
  {
   "cell_type": "code",
   "execution_count": 127,
   "metadata": {},
   "outputs": [],
   "source": [
    "df2['todrop'] = df2['users'].apply(lambda x: 'yes' if x not in chat_users else 'no')"
   ]
  },
  {
   "cell_type": "code",
   "execution_count": 128,
   "metadata": {},
   "outputs": [],
   "source": [
    "no_users = df2[df2['todrop'] == 'yes'].index"
   ]
  },
  {
   "cell_type": "code",
   "execution_count": 129,
   "metadata": {},
   "outputs": [],
   "source": [
    "df2 = df2.drop(no_users)"
   ]
  },
  {
   "cell_type": "code",
   "execution_count": 130,
   "metadata": {},
   "outputs": [],
   "source": [
    "df2 = df2.drop(columns='todrop')"
   ]
  },
  {
   "cell_type": "code",
   "execution_count": 131,
   "metadata": {},
   "outputs": [],
   "source": [
    "df2['messages'] = df2['raw'].apply(lambda x: x.split(\":\")[-1].strip())"
   ]
  },
  {
   "cell_type": "code",
   "execution_count": 132,
   "metadata": {},
   "outputs": [],
   "source": [
    "df2 = df2.drop(columns=3)"
   ]
  },
  {
   "cell_type": "code",
   "execution_count": 133,
   "metadata": {},
   "outputs": [],
   "source": [
    "df2 = df2.drop(columns='raw')"
   ]
  },
  {
   "cell_type": "code",
   "execution_count": 134,
   "metadata": {},
   "outputs": [
    {
     "data": {
      "text/html": [
       "<div>\n",
       "<style scoped>\n",
       "    .dataframe tbody tr th:only-of-type {\n",
       "        vertical-align: middle;\n",
       "    }\n",
       "\n",
       "    .dataframe tbody tr th {\n",
       "        vertical-align: top;\n",
       "    }\n",
       "\n",
       "    .dataframe thead th {\n",
       "        text-align: right;\n",
       "    }\n",
       "</style>\n",
       "<table border=\"1\" class=\"dataframe\">\n",
       "  <thead>\n",
       "    <tr style=\"text-align: right;\">\n",
       "      <th></th>\n",
       "      <th>0</th>\n",
       "      <th>1</th>\n",
       "      <th>users</th>\n",
       "      <th>messages</th>\n",
       "    </tr>\n",
       "  </thead>\n",
       "  <tbody>\n",
       "    <tr>\n",
       "      <th>0</th>\n",
       "      <td>25/6/19</td>\n",
       "      <td>20:57</td>\n",
       "      <td>Alvarito</td>\n",
       "      <td>Isma sal de ahi</td>\n",
       "    </tr>\n",
       "    <tr>\n",
       "      <th>1</th>\n",
       "      <td>25/6/19</td>\n",
       "      <td>20:57</td>\n",
       "      <td>Alvarito</td>\n",
       "      <td>Sino caeras</td>\n",
       "    </tr>\n",
       "    <tr>\n",
       "      <th>2</th>\n",
       "      <td>25/6/19</td>\n",
       "      <td>21:11</td>\n",
       "      <td>Eku</td>\n",
       "      <td>Q va cabrón</td>\n",
       "    </tr>\n",
       "    <tr>\n",
       "      <th>3</th>\n",
       "      <td>25/6/19</td>\n",
       "      <td>21:11</td>\n",
       "      <td>Eku</td>\n",
       "      <td>Cómo voy a caeer</td>\n",
       "    </tr>\n",
       "    <tr>\n",
       "      <th>4</th>\n",
       "      <td>25/6/19</td>\n",
       "      <td>21:11</td>\n",
       "      <td>Eku</td>\n",
       "      <td>Por cierto, ayer el chiringuito, 1h de fútbol ...</td>\n",
       "    </tr>\n",
       "    <tr>\n",
       "      <th>...</th>\n",
       "      <td>...</td>\n",
       "      <td>...</td>\n",
       "      <td>...</td>\n",
       "      <td>...</td>\n",
       "    </tr>\n",
       "    <tr>\n",
       "      <th>41777</th>\n",
       "      <td>21/2/20</td>\n",
       "      <td>9:48</td>\n",
       "      <td>Jorge</td>\n",
       "      <td>A mí me ha castigado Dios con el resfriado. Qu...</td>\n",
       "    </tr>\n",
       "    <tr>\n",
       "      <th>41786</th>\n",
       "      <td>21/2/20</td>\n",
       "      <td>9:49</td>\n",
       "      <td>Jorge</td>\n",
       "      <td>Solo a ti se te ocurre montar un plan con los ...</td>\n",
       "    </tr>\n",
       "    <tr>\n",
       "      <th>41787</th>\n",
       "      <td>21/2/20</td>\n",
       "      <td>9:54</td>\n",
       "      <td>Alvarito</td>\n",
       "      <td>Que buenooo</td>\n",
       "    </tr>\n",
       "    <tr>\n",
       "      <th>41788</th>\n",
       "      <td>21/2/20</td>\n",
       "      <td>9:54</td>\n",
       "      <td>Alvarito</td>\n",
       "      <td>Ummmmm nunca sabras q puede pasar</td>\n",
       "    </tr>\n",
       "    <tr>\n",
       "      <th>41789</th>\n",
       "      <td>21/2/20</td>\n",
       "      <td>10:01</td>\n",
       "      <td>Pete</td>\n",
       "      <td>cuento con antoñito, a ver q logistica usa</td>\n",
       "    </tr>\n",
       "  </tbody>\n",
       "</table>\n",
       "<p>39933 rows × 4 columns</p>\n",
       "</div>"
      ],
      "text/plain": [
       "             0      1     users  \\\n",
       "0      25/6/19  20:57  Alvarito   \n",
       "1      25/6/19  20:57  Alvarito   \n",
       "2      25/6/19  21:11       Eku   \n",
       "3      25/6/19  21:11       Eku   \n",
       "4      25/6/19  21:11       Eku   \n",
       "...        ...    ...       ...   \n",
       "41777  21/2/20   9:48     Jorge   \n",
       "41786  21/2/20   9:49     Jorge   \n",
       "41787  21/2/20   9:54  Alvarito   \n",
       "41788  21/2/20   9:54  Alvarito   \n",
       "41789  21/2/20  10:01      Pete   \n",
       "\n",
       "                                                messages  \n",
       "0                                        Isma sal de ahi  \n",
       "1                                            Sino caeras  \n",
       "2                                            Q va cabrón  \n",
       "3                                       Cómo voy a caeer  \n",
       "4      Por cierto, ayer el chiringuito, 1h de fútbol ...  \n",
       "...                                                  ...  \n",
       "41777  A mí me ha castigado Dios con el resfriado. Qu...  \n",
       "41786  Solo a ti se te ocurre montar un plan con los ...  \n",
       "41787                                        Que buenooo  \n",
       "41788                  Ummmmm nunca sabras q puede pasar  \n",
       "41789         cuento con antoñito, a ver q logistica usa  \n",
       "\n",
       "[39933 rows x 4 columns]"
      ]
     },
     "execution_count": 134,
     "metadata": {},
     "output_type": "execute_result"
    }
   ],
   "source": [
    "df2"
   ]
  },
  {
   "cell_type": "code",
   "execution_count": 136,
   "metadata": {},
   "outputs": [],
   "source": [
    "df2['date'] = df2[0].apply(lambda x: x.replace(\"/\", \"-\"))"
   ]
  },
  {
   "cell_type": "code",
   "execution_count": 137,
   "metadata": {},
   "outputs": [],
   "source": [
    "df2 = df2.drop(columns=0)"
   ]
  },
  {
   "cell_type": "code",
   "execution_count": 138,
   "metadata": {},
   "outputs": [],
   "source": [
    "df2 = df2.rename(columns={1:'hour'})"
   ]
  },
  {
   "cell_type": "code",
   "execution_count": 139,
   "metadata": {},
   "outputs": [
    {
     "data": {
      "text/html": [
       "<div>\n",
       "<style scoped>\n",
       "    .dataframe tbody tr th:only-of-type {\n",
       "        vertical-align: middle;\n",
       "    }\n",
       "\n",
       "    .dataframe tbody tr th {\n",
       "        vertical-align: top;\n",
       "    }\n",
       "\n",
       "    .dataframe thead th {\n",
       "        text-align: right;\n",
       "    }\n",
       "</style>\n",
       "<table border=\"1\" class=\"dataframe\">\n",
       "  <thead>\n",
       "    <tr style=\"text-align: right;\">\n",
       "      <th></th>\n",
       "      <th>hour</th>\n",
       "      <th>users</th>\n",
       "      <th>messages</th>\n",
       "      <th>date</th>\n",
       "    </tr>\n",
       "  </thead>\n",
       "  <tbody>\n",
       "    <tr>\n",
       "      <th>0</th>\n",
       "      <td>20:57</td>\n",
       "      <td>Alvarito</td>\n",
       "      <td>Isma sal de ahi</td>\n",
       "      <td>25-6-19</td>\n",
       "    </tr>\n",
       "    <tr>\n",
       "      <th>1</th>\n",
       "      <td>20:57</td>\n",
       "      <td>Alvarito</td>\n",
       "      <td>Sino caeras</td>\n",
       "      <td>25-6-19</td>\n",
       "    </tr>\n",
       "    <tr>\n",
       "      <th>2</th>\n",
       "      <td>21:11</td>\n",
       "      <td>Eku</td>\n",
       "      <td>Q va cabrón</td>\n",
       "      <td>25-6-19</td>\n",
       "    </tr>\n",
       "    <tr>\n",
       "      <th>3</th>\n",
       "      <td>21:11</td>\n",
       "      <td>Eku</td>\n",
       "      <td>Cómo voy a caeer</td>\n",
       "      <td>25-6-19</td>\n",
       "    </tr>\n",
       "    <tr>\n",
       "      <th>4</th>\n",
       "      <td>21:11</td>\n",
       "      <td>Eku</td>\n",
       "      <td>Por cierto, ayer el chiringuito, 1h de fútbol ...</td>\n",
       "      <td>25-6-19</td>\n",
       "    </tr>\n",
       "    <tr>\n",
       "      <th>...</th>\n",
       "      <td>...</td>\n",
       "      <td>...</td>\n",
       "      <td>...</td>\n",
       "      <td>...</td>\n",
       "    </tr>\n",
       "    <tr>\n",
       "      <th>41777</th>\n",
       "      <td>9:48</td>\n",
       "      <td>Jorge</td>\n",
       "      <td>A mí me ha castigado Dios con el resfriado. Qu...</td>\n",
       "      <td>21-2-20</td>\n",
       "    </tr>\n",
       "    <tr>\n",
       "      <th>41786</th>\n",
       "      <td>9:49</td>\n",
       "      <td>Jorge</td>\n",
       "      <td>Solo a ti se te ocurre montar un plan con los ...</td>\n",
       "      <td>21-2-20</td>\n",
       "    </tr>\n",
       "    <tr>\n",
       "      <th>41787</th>\n",
       "      <td>9:54</td>\n",
       "      <td>Alvarito</td>\n",
       "      <td>Que buenooo</td>\n",
       "      <td>21-2-20</td>\n",
       "    </tr>\n",
       "    <tr>\n",
       "      <th>41788</th>\n",
       "      <td>9:54</td>\n",
       "      <td>Alvarito</td>\n",
       "      <td>Ummmmm nunca sabras q puede pasar</td>\n",
       "      <td>21-2-20</td>\n",
       "    </tr>\n",
       "    <tr>\n",
       "      <th>41789</th>\n",
       "      <td>10:01</td>\n",
       "      <td>Pete</td>\n",
       "      <td>cuento con antoñito, a ver q logistica usa</td>\n",
       "      <td>21-2-20</td>\n",
       "    </tr>\n",
       "  </tbody>\n",
       "</table>\n",
       "<p>39933 rows × 4 columns</p>\n",
       "</div>"
      ],
      "text/plain": [
       "        hour     users                                           messages  \\\n",
       "0      20:57  Alvarito                                    Isma sal de ahi   \n",
       "1      20:57  Alvarito                                        Sino caeras   \n",
       "2      21:11       Eku                                        Q va cabrón   \n",
       "3      21:11       Eku                                   Cómo voy a caeer   \n",
       "4      21:11       Eku  Por cierto, ayer el chiringuito, 1h de fútbol ...   \n",
       "...      ...       ...                                                ...   \n",
       "41777   9:48     Jorge  A mí me ha castigado Dios con el resfriado. Qu...   \n",
       "41786   9:49     Jorge  Solo a ti se te ocurre montar un plan con los ...   \n",
       "41787   9:54  Alvarito                                        Que buenooo   \n",
       "41788   9:54  Alvarito                  Ummmmm nunca sabras q puede pasar   \n",
       "41789  10:01      Pete         cuento con antoñito, a ver q logistica usa   \n",
       "\n",
       "          date  \n",
       "0      25-6-19  \n",
       "1      25-6-19  \n",
       "2      25-6-19  \n",
       "3      25-6-19  \n",
       "4      25-6-19  \n",
       "...        ...  \n",
       "41777  21-2-20  \n",
       "41786  21-2-20  \n",
       "41787  21-2-20  \n",
       "41788  21-2-20  \n",
       "41789  21-2-20  \n",
       "\n",
       "[39933 rows x 4 columns]"
      ]
     },
     "execution_count": 139,
     "metadata": {},
     "output_type": "execute_result"
    }
   ],
   "source": [
    "df2"
   ]
  },
  {
   "cell_type": "code",
   "execution_count": 2,
   "metadata": {},
   "outputs": [],
   "source": [
    "import pandas as pd"
   ]
  },
  {
   "cell_type": "code",
   "execution_count": 30,
   "metadata": {},
   "outputs": [],
   "source": [
    "fechas = list(df['date'].value_counts().keys())"
   ]
  },
  {
   "cell_type": "code",
   "execution_count": 39,
   "metadata": {},
   "outputs": [],
   "source": [
    "filtro = df[df['date'] == fechas[0]]\n",
    "usuarios = list(filtro['users'].value_counts().keys())"
   ]
  },
  {
   "cell_type": "code",
   "execution_count": null,
   "metadata": {},
   "outputs": [],
   "source": [
    "for fecha in fechas:\n",
    "    "
   ]
  },
  {
   "cell_type": "code",
   "execution_count": 51,
   "metadata": {},
   "outputs": [],
   "source": [
    "df2 = df2.rename(columns={0:'date',1:'hour'})"
   ]
  },
  {
   "cell_type": "code",
   "execution_count": 53,
   "metadata": {},
   "outputs": [],
   "source": [
    "df2.to_csv(\"./OUTPUT/whatsapp.csv\")"
   ]
  },
  {
   "cell_type": "code",
   "execution_count": 30,
   "metadata": {},
   "outputs": [],
   "source": [
    "df = pd.read_csv('./OUTPUT/whatsapp.csv')"
   ]
  },
  {
   "cell_type": "code",
   "execution_count": 59,
   "metadata": {},
   "outputs": [
    {
     "data": {
      "text/plain": [
       "['Jorge',\n",
       " 'Ivan',\n",
       " 'Alvarito',\n",
       " 'Pete',\n",
       " 'Alvaro',\n",
       " 'Eku',\n",
       " 'Jose',\n",
       " 'Antoñito',\n",
       " 'Pinedo',\n",
       " 'Rafa',\n",
       " 'Laura',\n",
       " 'Fonseca',\n",
       " 'Chema',\n",
       " 'Marlena',\n",
       " 'Juli']"
      ]
     },
     "execution_count": 59,
     "metadata": {},
     "output_type": "execute_result"
    }
   ],
   "source": [
    "list(df['users'].value_counts().keys())"
   ]
  },
  {
   "cell_type": "code",
   "execution_count": 2,
   "metadata": {},
   "outputs": [],
   "source": [
    "from pymongo import MongoClient\n",
    "import requests\n",
    "\n",
    "# Connect to MongoDB\n",
    "client = MongoClient(\"mongodb://localhost:27017/apichat\")\n",
    "\n",
    "# Reading database collections\n",
    "users = client.get_default_database()['users']\n",
    "chats = client.get_default_database()['chats']\n",
    "conversations = client.get_default_database()['conversations']"
   ]
  },
  {
   "cell_type": "code",
   "execution_count": 92,
   "metadata": {},
   "outputs": [],
   "source": [
    "y = requests.get(\"http://localhost:5000//get/messages/Marlena\").json()"
   ]
  },
  {
   "cell_type": "code",
   "execution_count": 94,
   "metadata": {},
   "outputs": [
    {
     "data": {
      "text/plain": [
       "'Y el seguro ese de tu madre que me pagan por parir'"
      ]
     },
     "execution_count": 94,
     "metadata": {},
     "output_type": "execute_result"
    }
   ],
   "source": [
    "y[0]['message']"
   ]
  },
  {
   "cell_type": "code",
   "execution_count": 79,
   "metadata": {},
   "outputs": [
    {
     "data": {
      "text/plain": [
       "[{'chat_id': 238,\n",
       "  'conversation_id': 6548,\n",
       "  'datetime': '5-8-19 0:15',\n",
       "  'message': 'Curro',\n",
       "  'user_id': 2},\n",
       " {'chat_id': 238,\n",
       "  'conversation_id': 6549,\n",
       "  'datetime': '5-8-19 0:15',\n",
       "  'message': 'Jajajaj',\n",
       "  'user_id': 2},\n",
       " {'chat_id': 238,\n",
       "  'conversation_id': 6550,\n",
       "  'datetime': '5-8-19 0:15',\n",
       "  'message': 'Ha ha ha',\n",
       "  'user_id': 2},\n",
       " {'chat_id': 238,\n",
       "  'conversation_id': 6551,\n",
       "  'datetime': '5-8-19 8:37',\n",
       "  'message': '2 de septiembre',\n",
       "  'user_id': 1},\n",
       " {'chat_id': 238,\n",
       "  'conversation_id': 6552,\n",
       "  'datetime': '5-8-19 21:57',\n",
       "  'message': 'Donde andáis los buyuyus?',\n",
       "  'user_id': 14},\n",
       " {'chat_id': 238,\n",
       "  'conversation_id': 6553,\n",
       "  'datetime': '5-8-19 22:41',\n",
       "  'message': '00 a los bestias al striptease',\n",
       "  'user_id': 0},\n",
       " {'chat_id': 238,\n",
       "  'conversation_id': 6554,\n",
       "  'datetime': '5-8-19 22:53',\n",
       "  'message': 'Uuuuuuuuuu',\n",
       "  'user_id': 2},\n",
       " {'chat_id': 238,\n",
       "  'conversation_id': 6555,\n",
       "  'datetime': '5-8-19 23:27',\n",
       "  'message': '<Multimedia omitido>',\n",
       "  'user_id': 9},\n",
       " {'chat_id': 238,\n",
       "  'conversation_id': 6556,\n",
       "  'datetime': '5-8-19 23:48',\n",
       "  'message': '🤣',\n",
       "  'user_id': 1}]"
      ]
     },
     "execution_count": 79,
     "metadata": {},
     "output_type": "execute_result"
    }
   ],
   "source": [
    "data2 = list(conversations.find({'chat_id':238},{'_id':0}))\n",
    "data2"
   ]
  },
  {
   "cell_type": "code",
   "execution_count": 4,
   "metadata": {
    "scrolled": true
   },
   "outputs": [
    {
     "data": {
      "text/plain": [
       "[{'conversation_id': 6533,\n",
       "  'datetime': '4-8-19 20:07',\n",
       "  'message': '<Multimedia omitido>',\n",
       "  'user_id': 6},\n",
       " {'conversation_id': 6534,\n",
       "  'datetime': '4-8-19 20:27',\n",
       "  'message': 'Triste realidad',\n",
       "  'user_id': 1},\n",
       " {'conversation_id': 6535,\n",
       "  'datetime': '4-8-19 20:44',\n",
       "  'message': 'Ivan',\n",
       "  'user_id': 2},\n",
       " {'conversation_id': 6536,\n",
       "  'datetime': '4-8-19 20:44',\n",
       "  'message': 'Q no sabemos nada de ti',\n",
       "  'user_id': 2},\n",
       " {'conversation_id': 6537,\n",
       "  'datetime': '4-8-19 21:19',\n",
       "  'message': 'Que tal vais por alli?',\n",
       "  'user_id': 7},\n",
       " {'conversation_id': 6538,\n",
       "  'datetime': '4-8-19 21:22',\n",
       "  'message': '💀',\n",
       "  'user_id': 5},\n",
       " {'conversation_id': 6539,\n",
       "  'datetime': '4-8-19 21:24',\n",
       "  'message': 'Qué quires saber hermoso',\n",
       "  'user_id': 1},\n",
       " {'conversation_id': 6540,\n",
       "  'datetime': '4-8-19 21:25',\n",
       "  'message': 'Lo estáis pasando bien o qué?',\n",
       "  'user_id': 1},\n",
       " {'conversation_id': 6541,\n",
       "  'datetime': '4-8-19 21:30',\n",
       "  'message': '<Multimedia omitido>',\n",
       "  'user_id': 0},\n",
       " {'conversation_id': 6542,\n",
       "  'datetime': '4-8-19 21:30',\n",
       "  'message': '😂',\n",
       "  'user_id': 1},\n",
       " {'conversation_id': 6543,\n",
       "  'datetime': '4-8-19 22:10',\n",
       "  'message': 'Que tal las vacaciones?',\n",
       "  'user_id': 8},\n",
       " {'conversation_id': 6544,\n",
       "  'datetime': '4-8-19 22:17',\n",
       "  'message': 'Fantásticas',\n",
       "  'user_id': 0},\n",
       " {'conversation_id': 6545,\n",
       "  'datetime': '4-8-19 23:35',\n",
       "  'message': '<Multimedia omitido>',\n",
       "  'user_id': 4},\n",
       " {'conversation_id': 6546,\n",
       "  'datetime': '4-8-19 23:41',\n",
       "  'message': 'Cuanto te queda de novacaciones',\n",
       "  'user_id': 2},\n",
       " {'conversation_id': 6547,\n",
       "  'datetime': '4-8-19 23:43',\n",
       "  'message': '?? Qué cuando voy a la playa? Que cuando voy al curro?',\n",
       "  'user_id': 1}]"
      ]
     },
     "execution_count": 4,
     "metadata": {},
     "output_type": "execute_result"
    }
   ],
   "source": [
    "y = requests.get(\"http://localhost:5000//get/info/4-8-19\").json()\n",
    "y"
   ]
  },
  {
   "cell_type": "code",
   "execution_count": 217,
   "metadata": {},
   "outputs": [],
   "source": [
    "from textblob import TextBlob"
   ]
  },
  {
   "cell_type": "code",
   "execution_count": 5,
   "metadata": {},
   "outputs": [
    {
     "data": {
      "text/plain": [
       "'Triste realidad'"
      ]
     },
     "execution_count": 5,
     "metadata": {},
     "output_type": "execute_result"
    }
   ],
   "source": [
    "a = y[1]['message']\n",
    "a"
   ]
  },
  {
   "cell_type": "code",
   "execution_count": 7,
   "metadata": {},
   "outputs": [
    {
     "name": "stderr",
     "output_type": "stream",
     "text": [
      "/usr/local/lib/python3.6/dist-packages/sklearn/externals/joblib/__init__.py:15: FutureWarning: sklearn.externals.joblib is deprecated in 0.21 and will be removed in 0.23. Please import this functionality directly from joblib, which can be installed with: pip install joblib. If this warning is raised when loading pickled models, you may need to re-serialize those models with scikit-learn 0.21+.\n",
      "  warnings.warn(msg, category=FutureWarning)\n"
     ]
    },
    {
     "name": "stdout",
     "output_type": "stream",
     "text": [
      "Will download some functions from the nltk package if not found on the computer\n"
     ]
    },
    {
     "name": "stderr",
     "output_type": "stream",
     "text": [
      "[nltk_data] Downloading package punkt to /home/marlena/nltk_data...\n",
      "[nltk_data]   Unzipping tokenizers/punkt.zip.\n"
     ]
    }
   ],
   "source": [
    "from classifier import *"
   ]
  },
  {
   "cell_type": "code",
   "execution_count": 8,
   "metadata": {},
   "outputs": [],
   "source": [
    "clf = SentimentClassifier()"
   ]
  },
  {
   "cell_type": "code",
   "execution_count": 14,
   "metadata": {},
   "outputs": [
    {
     "data": {
      "text/plain": [
       "0.541333260777616"
      ]
     },
     "execution_count": 14,
     "metadata": {},
     "output_type": "execute_result"
    }
   ],
   "source": [
    "clf.predict('Ivan')"
   ]
  },
  {
   "cell_type": "code",
   "execution_count": 268,
   "metadata": {},
   "outputs": [
    {
     "data": {
      "text/plain": [
       "'<!DOCTYPE html PUBLIC \"-//W3C//DTD HTML 4.01 Transitional//EN\">\\n<html>\\n<head><meta http-equiv=\"content-type\" content=\"text/html; charset=utf-8\"><meta name=\"viewport\" content=\"initial-scale=1\"><title>http://translate.google.com/translate_a/t?text=Triste+realidad&amp;sl=es&amp;tl=en&amp;client=p</title></head>\\n<body style=\"font-family: arial, sans-serif; background-color: #fff; color: #000; padding:20px; font-size:18px;\" onload=\"e=document.getElementById(\\'captcha\\');if(e){e.focus();}\">\\n<div style=\"max-width:400px;\">\\n<hr noshade size=\"1\" style=\"color:#ccc; background-color:#ccc;\"><br>\\n<div style=\"font-size:13px;\">\\nOur systems have detected unusual traffic from your computer network.  Please try your request again later.  <a href=\"#\" onclick=\"document.getElementById(\\'infoDiv0\\').style.display=\\'block\\';\">Why did this happen?</a><br><br>\\n<div id=\"infoDiv0\" style=\"display:none; background-color:#eee; padding:10px; margin:0 0 15px 0; line-height:1.4em;\">\\nThis page appears when Google automatically detects requests coming from your computer network which appear to be in violation of the <a href=\"//www.google.com/policies/terms/\">Terms of Service</a>. The block will expire shortly after those requests stop.<br><br>This traffic may have been sent by malicious software, a browser plug-in, or a script that sends automated requests.  If you share your network connection, ask your administrator for help &mdash; a different computer using the same IP address may be responsible.  <a href=\"//support.google.com/websearch/answer/86640\">Learn more</a><br><br>Sometimes you may see this page if you are using advanced terms that robots are known to use, or sending requests very quickly.\\n</div><br>\\n\\nIP address: 83.41.168.5<br>Time: 2020-02-23T20:47:34Z<br>URL: http://translate.google.com/translate_a/t?text=Triste+realidad&amp;sl=es&amp;tl=en&amp;client=p<br>\\n</div>\\n</div>\\n</body>\\n</html>\\n'"
      ]
     },
     "execution_count": 268,
     "metadata": {},
     "output_type": "execute_result"
    }
   ],
   "source": [
    "url = 'http://translate.google.com/translate_a/t'\n",
    "params = {\n",
    "    \"text\": a, \n",
    "    \"sl\": \"es\", \n",
    "    \"tl\": \"en\", \n",
    "    \"client\": \"p\"\n",
    "}\n",
    "b = requests.get(url, params=params).text\n",
    "b"
   ]
  },
  {
   "cell_type": "code",
   "execution_count": null,
   "metadata": {},
   "outputs": [],
   "source": [
    "        en = trad.translate(from_lang=\"es\",to=\"en\")\n",
    "        print(f\"mensaje traducido{en}\")"
   ]
  },
  {
   "cell_type": "code",
   "execution_count": 18,
   "metadata": {},
   "outputs": [],
   "source": [
    "import nltk\n",
    "from nltk.sentiment.vader import SentimentIntensityAnalyzer"
   ]
  },
  {
   "cell_type": "code",
   "execution_count": 19,
   "metadata": {},
   "outputs": [],
   "source": [
    "sid = SentimentIntensityAnalyzer()"
   ]
  },
  {
   "cell_type": "code",
   "execution_count": 109,
   "metadata": {},
   "outputs": [
    {
     "data": {
      "text/plain": [
       "[{'compound': 0.0, 'neg': 0.0, 'neu': 1.0, 'pos': 0.0},\n",
       " {'compound': 0.0, 'neg': 0.0, 'neu': 1.0, 'pos': 0.0},\n",
       " {'compound': 0.0, 'neg': 0.0, 'neu': 1.0, 'pos': 0.0},\n",
       " {'compound': -0.296, 'neg': 0.355, 'neu': 0.645, 'pos': 0.0},\n",
       " {'compound': 0.0, 'neg': 0.0, 'neu': 1.0, 'pos': 0.0},\n",
       " {'compound': 0.0, 'neg': 0.0, 'neu': 0.0, 'pos': 0.0},\n",
       " {'compound': 0.0, 'neg': 0.0, 'neu': 1.0, 'pos': 0.0},\n",
       " {'compound': 0.0, 'neg': 0.0, 'neu': 1.0, 'pos': 0.0},\n",
       " {'compound': 0.0, 'neg': 0.0, 'neu': 1.0, 'pos': 0.0},\n",
       " {'compound': 0.0, 'neg': 0.0, 'neu': 0.0, 'pos': 0.0},\n",
       " {'compound': 0.0, 'neg': 0.0, 'neu': 1.0, 'pos': 0.0},\n",
       " {'compound': 0.0, 'neg': 0.0, 'neu': 1.0, 'pos': 0.0},\n",
       " {'compound': 0.0, 'neg': 0.0, 'neu': 1.0, 'pos': 0.0},\n",
       " {'compound': 0.0, 'neg': 0.0, 'neu': 1.0, 'pos': 0.0},\n",
       " {'compound': 0.0, 'neg': 0.0, 'neu': 1.0, 'pos': 0.0}]"
      ]
     },
     "execution_count": 109,
     "metadata": {},
     "output_type": "execute_result"
    }
   ],
   "source": [
    "sentimientos = []\n",
    "for x in range(len(y)):\n",
    "    mensaje = y[x]['message']\n",
    "    analisis = sid.polarity_scores(mensaje)\n",
    "    sentimientos.append(analisis)\n",
    "sentimientos"
   ]
  },
  {
   "cell_type": "code",
   "execution_count": 64,
   "metadata": {},
   "outputs": [],
   "source": [
    "import requests\n",
    "\n",
    "class Hola():\n",
    "    def prueba(self,y,chat):\n",
    "        sid = SentimentIntensityAnalyzer()\n",
    "        sentimientos = []\n",
    "        self.mensajes = []\n",
    "        for x in range(len(y)):\n",
    "            mensaje = y[x]['message']\n",
    "            self.mensajes.append(mensaje)\n",
    "            analisis = sid.polarity_scores(str(mensaje))\n",
    "            sentimientos.append(analisis)\n",
    "        neg = [x['neg'] for x in sentimientos if x['neg']+x['neu']+x['pos']+x['compound'] != 0.0]\n",
    "        neu = [x['neu'] for x in sentimientos if x['neg']+x['neu']+x['pos']+x['compound'] != 0.0]\n",
    "        pos = [x['pos'] for x in sentimientos if x['neg']+x['neu']+x['pos']+x['compound'] != 0.0]\n",
    "        compound = [x['compound'] for x in sentimientos if x['neg']+x['neu']+x['pos']+x['compound'] != 0.0]\n",
    "        prueba = f'''Chat on date {chat} was rated as: \n",
    "                                                {round((sum(pos)/len(pos))*100,2)}% Positive, \n",
    "                                                {round((sum(neg)/len(neg))*100,2)}% Negative, \n",
    "                                                {round((sum(neu)/len(neu))*100,2)}% Neutral'''\n",
    "\n",
    "        if sum(compound)/len(compound) >= 0.05: \n",
    "            return prueba,'Chat Overall Rated As POSITIVE'\n",
    "        elif sum(compound)/len(compound) <= - 0.05: \n",
    "            return prueba,'Chat Overall Rated As NEGATIVE'\n",
    "        else: \n",
    "            return prueba,'\\nChat Overall Rated As NEUTRAL'\n",
    "    def prueba2(self):\n",
    "        clf = SentimentClassifier()\n",
    "        sentimientos = []\n",
    "        for mensaje in self.mensajes:\n",
    "            analisis = clf.predict(mensaje)\n",
    "            sentimientos.append(analisis)\n",
    "        average = sum(sentimientos)/len(sentimientos)\n",
    "        if average <= 0.3:\n",
    "            return 'Chat Overall Rated As NEGATIVE'\n",
    "        elif average >= 0.7:\n",
    "            return 'Chat Overall Rated As POSITIVE'\n",
    "        else:\n",
    "            return 'Chat Overall Rated As NEUTRAL'"
   ]
  },
  {
   "cell_type": "code",
   "execution_count": 65,
   "metadata": {},
   "outputs": [
    {
     "data": {
      "text/plain": [
       "'Chat Overall Rated As NEUTRAL'"
      ]
     },
     "execution_count": 65,
     "metadata": {},
     "output_type": "execute_result"
    }
   ],
   "source": [
    "s = Hola()\n",
    "s.prueba(y,'22-02-2020')\n",
    "s.prueba2()"
   ]
  },
  {
   "cell_type": "code",
   "execution_count": 22,
   "metadata": {},
   "outputs": [
    {
     "data": {
      "text/plain": [
       "('Chat on date 22-02-2020 was rated as: \\n                                            5.57% Positive, \\n                                            5.04% Negative, \\n                                            89.39% Neutral',\n",
       " '\\nChat Overall Rated As NEUTRAL')"
      ]
     },
     "execution_count": 22,
     "metadata": {},
     "output_type": "execute_result"
    }
   ],
   "source": [
    "prueba(y,'22-02-2020')"
   ]
  },
  {
   "cell_type": "code",
   "execution_count": 196,
   "metadata": {},
   "outputs": [
    {
     "data": {
      "text/plain": [
       "('Chat on date 22-02-2020 was rated as: \\n                                            1.82% Positive, \\n                                            3.69% Negative, \\n                                            94.49% Neutral',\n",
       " '\\nChat Overall Rated As NEUTRAL')"
      ]
     },
     "execution_count": 196,
     "metadata": {},
     "output_type": "execute_result"
    }
   ],
   "source": [
    "k"
   ]
  },
  {
   "cell_type": "code",
   "execution_count": 266,
   "metadata": {},
   "outputs": [
    {
     "data": {
      "text/plain": [
       "{'Negativity': '2.85%',\n",
       " 'Neutrality': '96.47%',\n",
       " 'Overall': 'NEUTRAL',\n",
       " 'Positivity': '0.68%'}"
      ]
     },
     "execution_count": 266,
     "metadata": {},
     "output_type": "execute_result"
    }
   ],
   "source": [
    "requests.get('http://localhost:5000//get/sentiments/from/25-11-19').json()"
   ]
  },
  {
   "cell_type": "code",
   "execution_count": 134,
   "metadata": {},
   "outputs": [
    {
     "data": {
      "text/plain": [
       "[{'compound': 0.0, 'neg': 0.0, 'neu': 1.0, 'pos': 0.0},\n",
       " {'compound': 0.0, 'neg': 0.0, 'neu': 1.0, 'pos': 0.0},\n",
       " {'compound': 0.0, 'neg': 0.0, 'neu': 1.0, 'pos': 0.0},\n",
       " {'compound': -0.296, 'neg': 0.355, 'neu': 0.645, 'pos': 0.0},\n",
       " {'compound': 0.0, 'neg': 0.0, 'neu': 1.0, 'pos': 0.0},\n",
       " {'compound': 0.0, 'neg': 0.0, 'neu': 0.0, 'pos': 0.0},\n",
       " {'compound': 0.0, 'neg': 0.0, 'neu': 1.0, 'pos': 0.0},\n",
       " {'compound': 0.0, 'neg': 0.0, 'neu': 1.0, 'pos': 0.0},\n",
       " {'compound': 0.0, 'neg': 0.0, 'neu': 1.0, 'pos': 0.0},\n",
       " {'compound': 0.0, 'neg': 0.0, 'neu': 0.0, 'pos': 0.0},\n",
       " {'compound': 0.0, 'neg': 0.0, 'neu': 1.0, 'pos': 0.0},\n",
       " {'compound': 0.0, 'neg': 0.0, 'neu': 1.0, 'pos': 0.0},\n",
       " {'compound': 0.0, 'neg': 0.0, 'neu': 1.0, 'pos': 0.0},\n",
       " {'compound': 0.0, 'neg': 0.0, 'neu': 1.0, 'pos': 0.0},\n",
       " {'compound': 0.0, 'neg': 0.0, 'neu': 1.0, 'pos': 0.0}]"
      ]
     },
     "execution_count": 134,
     "metadata": {},
     "output_type": "execute_result"
    }
   ],
   "source": [
    "mI = y\n",
    "sentiments = []\n",
    "for i in range(len(mI)):\n",
    "    message = mI[i]['message']\n",
    "    analysis = sid.polarity_scores(message)\n",
    "    sentiments.append(analysis)\n",
    "sentiments"
   ]
  },
  {
   "cell_type": "code",
   "execution_count": 8,
   "metadata": {},
   "outputs": [
    {
     "data": {
      "text/plain": [
       "'[{\"_id\": {\"$oid\": \"5e51aadf626892ebcf7e96a3\"}, \"user_id\": 0, \"user_name\": \"Jorge\"}, {\"_id\": {\"$oid\": \"5e51aadf626892ebcf7e96a4\"}, \"user_id\": 1, \"user_name\": \"Ivan\"}, {\"_id\": {\"$oid\": \"5e51aadf626892ebcf7e96a5\"}, \"user_id\": 2, \"user_name\": \"Alvarito\"}, {\"_id\": {\"$oid\": \"5e51aadf626892ebcf7e96a6\"}, \"user_id\": 3, \"user_name\": \"Pete\"}, {\"_id\": {\"$oid\": \"5e51aadf626892ebcf7e96a7\"}, \"user_id\": 4, \"user_name\": \"Alvaro\"}, {\"_id\": {\"$oid\": \"5e51aadf626892ebcf7e96a8\"}, \"user_id\": 5, \"user_name\": \"Eku\"}, {\"_id\": {\"$oid\": \"5e51aadf626892ebcf7e96a9\"}, \"user_id\": 6, \"user_name\": \"Jose\"}, {\"_id\": {\"$oid\": \"5e51aadf626892ebcf7e96aa\"}, \"user_id\": 7, \"user_name\": \"Anto\\\\u00f1ito\"}, {\"_id\": {\"$oid\": \"5e51aadf626892ebcf7e96ab\"}, \"user_id\": 8, \"user_name\": \"Pinedo\"}, {\"_id\": {\"$oid\": \"5e51aadf626892ebcf7e96ac\"}, \"user_id\": 9, \"user_name\": \"Rafa\"}, {\"_id\": {\"$oid\": \"5e51aadf626892ebcf7e96ad\"}, \"user_id\": 10, \"user_name\": \"Laura\"}, {\"_id\": {\"$oid\": \"5e51aadf626892ebcf7e96ae\"}, \"user_id\": 11, \"user_name\": \"Fonseca\"}, {\"_id\": {\"$oid\": \"5e51aadf626892ebcf7e96af\"}, \"user_id\": 12, \"user_name\": \"Chema\"}, {\"_id\": {\"$oid\": \"5e51aadf626892ebcf7e96b0\"}, \"user_id\": 13, \"user_name\": \"Marlena\"}, {\"_id\": {\"$oid\": \"5e51aadf626892ebcf7e96b1\"}, \"user_id\": 14, \"user_name\": \"Juli\"}]'"
      ]
     },
     "execution_count": 8,
     "metadata": {},
     "output_type": "execute_result"
    }
   ],
   "source": [
    "from bson.json_util import dumps\n",
    "dumps(users.find())"
   ]
  },
  {
   "cell_type": "code",
   "execution_count": 72,
   "metadata": {
    "scrolled": true
   },
   "outputs": [
    {
     "data": {
      "text/plain": [
       "0      752\n",
       "1      522\n",
       "2      519\n",
       "3      479\n",
       "4      443\n",
       "      ... \n",
       "233     15\n",
       "235     14\n",
       "236     13\n",
       "237     10\n",
       "238      9\n",
       "Name: chat_id, Length: 239, dtype: int64"
      ]
     },
     "execution_count": 72,
     "metadata": {},
     "output_type": "execute_result"
    }
   ],
   "source": [
    "y = list(conversations.find())\n",
    "y = pd.DataFrame(y)\n",
    "y['chat_id'].value_counts().head(239)"
   ]
  },
  {
   "cell_type": "code",
   "execution_count": 109,
   "metadata": {},
   "outputs": [],
   "source": [
    "y.to_csv('./OUTPUT/conversations.csv')"
   ]
  },
  {
   "cell_type": "code",
   "execution_count": 110,
   "metadata": {},
   "outputs": [],
   "source": [
    "import json\n",
    "from bson.json_util import dumps\n",
    "\n",
    "with open('./OUTPUT/conversations.json', 'w') as f:\n",
    "    json.dump(x, f)"
   ]
  },
  {
   "cell_type": "code",
   "execution_count": 8,
   "metadata": {},
   "outputs": [
    {
     "data": {
      "text/plain": [
       "1"
      ]
     },
     "execution_count": 8,
     "metadata": {},
     "output_type": "execute_result"
    }
   ],
   "source": [
    "len(users.distinct('user_id'))+1"
   ]
  },
  {
   "cell_type": "code",
   "execution_count": 24,
   "metadata": {},
   "outputs": [],
   "source": [
    "import requests"
   ]
  },
  {
   "cell_type": "code",
   "execution_count": 49,
   "metadata": {},
   "outputs": [
    {
     "data": {
      "text/plain": [
       "<Response [200]>"
      ]
     },
     "execution_count": 49,
     "metadata": {},
     "output_type": "execute_result"
    }
   ],
   "source": [
    "requests.get(\"http://localhost:5000//createdatabase\")"
   ]
  },
  {
   "cell_type": "code",
   "execution_count": 113,
   "metadata": {},
   "outputs": [
    {
     "data": {
      "text/plain": [
       "<Response [200]>"
      ]
     },
     "execution_count": 113,
     "metadata": {},
     "output_type": "execute_result"
    }
   ],
   "source": [
    "requests.get(\"http://localhost:5000//insertmessage/29-11-19/Marlena/29-11-19 20:58/Hola, que tal\")"
   ]
  },
  {
   "cell_type": "code",
   "execution_count": 28,
   "metadata": {},
   "outputs": [
    {
     "data": {
      "text/plain": [
       "13"
      ]
     },
     "execution_count": 28,
     "metadata": {},
     "output_type": "execute_result"
    }
   ],
   "source": [
    "list(users.find({'user_name':'Marlena'}, {'user_id': 1,'_id':0}))[0]['user_id']"
   ]
  },
  {
   "cell_type": "code",
   "execution_count": 17,
   "metadata": {},
   "outputs": [
    {
     "data": {
      "text/plain": [
       "['Alvarito',\n",
       " 'Alvaro',\n",
       " 'Antoñito',\n",
       " 'Chema',\n",
       " 'Eku',\n",
       " 'Fonseca',\n",
       " 'Ivan',\n",
       " 'Jorge',\n",
       " 'Jose',\n",
       " 'Juli',\n",
       " 'Laura',\n",
       " 'Marlena',\n",
       " 'Pete',\n",
       " 'Pinedo',\n",
       " 'Rafa',\n",
       " 'hola',\n",
       " 'user-test']"
      ]
     },
     "execution_count": 17,
     "metadata": {},
     "output_type": "execute_result"
    }
   ],
   "source": [
    "names = (users.distinct('name'))\n",
    "names"
   ]
  },
  {
   "cell_type": "code",
   "execution_count": 88,
   "metadata": {},
   "outputs": [
    {
     "data": {
      "text/plain": [
       "13"
      ]
     },
     "execution_count": 88,
     "metadata": {},
     "output_type": "execute_result"
    }
   ],
   "source": [
    "list(users.find({'user_name':'Marlena'}, {'user_id': 1,'_id':0}))[0]['user_id']"
   ]
  },
  {
   "cell_type": "code",
   "execution_count": 60,
   "metadata": {},
   "outputs": [
    {
     "data": {
      "text/plain": [
       "datetime.date(2020, 2, 22)"
      ]
     },
     "execution_count": 60,
     "metadata": {},
     "output_type": "execute_result"
    }
   ],
   "source": [
    "from datetime import date\n",
    "today = date.today()\n",
    "today"
   ]
  },
  {
   "cell_type": "code",
   "execution_count": 66,
   "metadata": {},
   "outputs": [
    {
     "data": {
      "text/plain": [
       "'22/02/2020'"
      ]
     },
     "execution_count": 66,
     "metadata": {},
     "output_type": "execute_result"
    }
   ],
   "source": [
    "from datetime import datetime\n",
    "\n",
    "datetime.today().strftime('%d/%m/%Y')"
   ]
  },
  {
   "cell_type": "code",
   "execution_count": 105,
   "metadata": {},
   "outputs": [
    {
     "data": {
      "text/html": [
       "<div>\n",
       "<style scoped>\n",
       "    .dataframe tbody tr th:only-of-type {\n",
       "        vertical-align: middle;\n",
       "    }\n",
       "\n",
       "    .dataframe tbody tr th {\n",
       "        vertical-align: top;\n",
       "    }\n",
       "\n",
       "    .dataframe thead th {\n",
       "        text-align: right;\n",
       "    }\n",
       "</style>\n",
       "<table border=\"1\" class=\"dataframe\">\n",
       "  <thead>\n",
       "    <tr style=\"text-align: right;\">\n",
       "      <th></th>\n",
       "      <th>Unnamed: 0</th>\n",
       "      <th>date</th>\n",
       "      <th>hour</th>\n",
       "      <th>users</th>\n",
       "      <th>messages</th>\n",
       "    </tr>\n",
       "  </thead>\n",
       "  <tbody>\n",
       "    <tr>\n",
       "      <th>0</th>\n",
       "      <td>0</td>\n",
       "      <td>25/6/19</td>\n",
       "      <td>20:57</td>\n",
       "      <td>Alvarito</td>\n",
       "      <td>Isma sal de ahi</td>\n",
       "    </tr>\n",
       "    <tr>\n",
       "      <th>1</th>\n",
       "      <td>1</td>\n",
       "      <td>25/6/19</td>\n",
       "      <td>20:57</td>\n",
       "      <td>Alvarito</td>\n",
       "      <td>Sino caeras</td>\n",
       "    </tr>\n",
       "    <tr>\n",
       "      <th>2</th>\n",
       "      <td>2</td>\n",
       "      <td>25/6/19</td>\n",
       "      <td>21:11</td>\n",
       "      <td>Eku</td>\n",
       "      <td>Q va cabrón</td>\n",
       "    </tr>\n",
       "    <tr>\n",
       "      <th>3</th>\n",
       "      <td>3</td>\n",
       "      <td>25/6/19</td>\n",
       "      <td>21:11</td>\n",
       "      <td>Eku</td>\n",
       "      <td>Cómo voy a caeer</td>\n",
       "    </tr>\n",
       "    <tr>\n",
       "      <th>4</th>\n",
       "      <td>4</td>\n",
       "      <td>25/6/19</td>\n",
       "      <td>21:11</td>\n",
       "      <td>Eku</td>\n",
       "      <td>Por cierto, ayer el chiringuito, 1h de fútbol ...</td>\n",
       "    </tr>\n",
       "    <tr>\n",
       "      <th>...</th>\n",
       "      <td>...</td>\n",
       "      <td>...</td>\n",
       "      <td>...</td>\n",
       "      <td>...</td>\n",
       "      <td>...</td>\n",
       "    </tr>\n",
       "    <tr>\n",
       "      <th>39928</th>\n",
       "      <td>41777</td>\n",
       "      <td>21/2/20</td>\n",
       "      <td>9:48</td>\n",
       "      <td>Jorge</td>\n",
       "      <td>A mí me ha castigado Dios con el resfriado. Qu...</td>\n",
       "    </tr>\n",
       "    <tr>\n",
       "      <th>39929</th>\n",
       "      <td>41786</td>\n",
       "      <td>21/2/20</td>\n",
       "      <td>9:49</td>\n",
       "      <td>Jorge</td>\n",
       "      <td>Solo a ti se te ocurre montar un plan con los ...</td>\n",
       "    </tr>\n",
       "    <tr>\n",
       "      <th>39930</th>\n",
       "      <td>41787</td>\n",
       "      <td>21/2/20</td>\n",
       "      <td>9:54</td>\n",
       "      <td>Alvarito</td>\n",
       "      <td>Que buenooo</td>\n",
       "    </tr>\n",
       "    <tr>\n",
       "      <th>39931</th>\n",
       "      <td>41788</td>\n",
       "      <td>21/2/20</td>\n",
       "      <td>9:54</td>\n",
       "      <td>Alvarito</td>\n",
       "      <td>Ummmmm nunca sabras q puede pasar</td>\n",
       "    </tr>\n",
       "    <tr>\n",
       "      <th>39932</th>\n",
       "      <td>41789</td>\n",
       "      <td>21/2/20</td>\n",
       "      <td>10:01</td>\n",
       "      <td>Pete</td>\n",
       "      <td>cuento con antoñito, a ver q logistica usa</td>\n",
       "    </tr>\n",
       "  </tbody>\n",
       "</table>\n",
       "<p>39933 rows × 5 columns</p>\n",
       "</div>"
      ],
      "text/plain": [
       "       Unnamed: 0     date   hour     users  \\\n",
       "0               0  25/6/19  20:57  Alvarito   \n",
       "1               1  25/6/19  20:57  Alvarito   \n",
       "2               2  25/6/19  21:11       Eku   \n",
       "3               3  25/6/19  21:11       Eku   \n",
       "4               4  25/6/19  21:11       Eku   \n",
       "...           ...      ...    ...       ...   \n",
       "39928       41777  21/2/20   9:48     Jorge   \n",
       "39929       41786  21/2/20   9:49     Jorge   \n",
       "39930       41787  21/2/20   9:54  Alvarito   \n",
       "39931       41788  21/2/20   9:54  Alvarito   \n",
       "39932       41789  21/2/20  10:01      Pete   \n",
       "\n",
       "                                                messages  \n",
       "0                                        Isma sal de ahi  \n",
       "1                                            Sino caeras  \n",
       "2                                            Q va cabrón  \n",
       "3                                       Cómo voy a caeer  \n",
       "4      Por cierto, ayer el chiringuito, 1h de fútbol ...  \n",
       "...                                                  ...  \n",
       "39928  A mí me ha castigado Dios con el resfriado. Qu...  \n",
       "39929  Solo a ti se te ocurre montar un plan con los ...  \n",
       "39930                                        Que buenooo  \n",
       "39931                  Ummmmm nunca sabras q puede pasar  \n",
       "39932         cuento con antoñito, a ver q logistica usa  \n",
       "\n",
       "[39933 rows x 5 columns]"
      ]
     },
     "execution_count": 105,
     "metadata": {},
     "output_type": "execute_result"
    }
   ],
   "source": [
    "df"
   ]
  },
  {
   "cell_type": "code",
   "execution_count": 108,
   "metadata": {},
   "outputs": [],
   "source": [
    "df['date2'] = df['date'].apply(lambda x: x.replace(\"/\", \"-\"))"
   ]
  },
  {
   "cell_type": "code",
   "execution_count": 150,
   "metadata": {},
   "outputs": [
    {
     "data": {
      "text/html": [
       "<div>\n",
       "<style scoped>\n",
       "    .dataframe tbody tr th:only-of-type {\n",
       "        vertical-align: middle;\n",
       "    }\n",
       "\n",
       "    .dataframe tbody tr th {\n",
       "        vertical-align: top;\n",
       "    }\n",
       "\n",
       "    .dataframe thead th {\n",
       "        text-align: right;\n",
       "    }\n",
       "</style>\n",
       "<table border=\"1\" class=\"dataframe\">\n",
       "  <thead>\n",
       "    <tr style=\"text-align: right;\">\n",
       "      <th></th>\n",
       "      <th>Unnamed: 0</th>\n",
       "      <th>hour</th>\n",
       "      <th>users</th>\n",
       "      <th>messages</th>\n",
       "      <th>date</th>\n",
       "    </tr>\n",
       "  </thead>\n",
       "  <tbody>\n",
       "    <tr>\n",
       "      <th>0</th>\n",
       "      <td>0</td>\n",
       "      <td>20:57</td>\n",
       "      <td>Alvarito</td>\n",
       "      <td>Isma sal de ahi</td>\n",
       "      <td>25-6-19</td>\n",
       "    </tr>\n",
       "    <tr>\n",
       "      <th>1</th>\n",
       "      <td>1</td>\n",
       "      <td>20:57</td>\n",
       "      <td>Alvarito</td>\n",
       "      <td>Sino caeras</td>\n",
       "      <td>25-6-19</td>\n",
       "    </tr>\n",
       "    <tr>\n",
       "      <th>2</th>\n",
       "      <td>2</td>\n",
       "      <td>21:11</td>\n",
       "      <td>Eku</td>\n",
       "      <td>Q va cabrón</td>\n",
       "      <td>25-6-19</td>\n",
       "    </tr>\n",
       "    <tr>\n",
       "      <th>3</th>\n",
       "      <td>3</td>\n",
       "      <td>21:11</td>\n",
       "      <td>Eku</td>\n",
       "      <td>Cómo voy a caeer</td>\n",
       "      <td>25-6-19</td>\n",
       "    </tr>\n",
       "    <tr>\n",
       "      <th>4</th>\n",
       "      <td>4</td>\n",
       "      <td>21:11</td>\n",
       "      <td>Eku</td>\n",
       "      <td>Por cierto, ayer el chiringuito, 1h de fútbol ...</td>\n",
       "      <td>25-6-19</td>\n",
       "    </tr>\n",
       "    <tr>\n",
       "      <th>...</th>\n",
       "      <td>...</td>\n",
       "      <td>...</td>\n",
       "      <td>...</td>\n",
       "      <td>...</td>\n",
       "      <td>...</td>\n",
       "    </tr>\n",
       "    <tr>\n",
       "      <th>39928</th>\n",
       "      <td>41777</td>\n",
       "      <td>9:48</td>\n",
       "      <td>Jorge</td>\n",
       "      <td>A mí me ha castigado Dios con el resfriado. Qu...</td>\n",
       "      <td>21-2-20</td>\n",
       "    </tr>\n",
       "    <tr>\n",
       "      <th>39929</th>\n",
       "      <td>41786</td>\n",
       "      <td>9:49</td>\n",
       "      <td>Jorge</td>\n",
       "      <td>Solo a ti se te ocurre montar un plan con los ...</td>\n",
       "      <td>21-2-20</td>\n",
       "    </tr>\n",
       "    <tr>\n",
       "      <th>39930</th>\n",
       "      <td>41787</td>\n",
       "      <td>9:54</td>\n",
       "      <td>Alvarito</td>\n",
       "      <td>Que buenooo</td>\n",
       "      <td>21-2-20</td>\n",
       "    </tr>\n",
       "    <tr>\n",
       "      <th>39931</th>\n",
       "      <td>41788</td>\n",
       "      <td>9:54</td>\n",
       "      <td>Alvarito</td>\n",
       "      <td>Ummmmm nunca sabras q puede pasar</td>\n",
       "      <td>21-2-20</td>\n",
       "    </tr>\n",
       "    <tr>\n",
       "      <th>39932</th>\n",
       "      <td>41789</td>\n",
       "      <td>10:01</td>\n",
       "      <td>Pete</td>\n",
       "      <td>cuento con antoñito, a ver q logistica usa</td>\n",
       "      <td>21-2-20</td>\n",
       "    </tr>\n",
       "  </tbody>\n",
       "</table>\n",
       "<p>39933 rows × 5 columns</p>\n",
       "</div>"
      ],
      "text/plain": [
       "       Unnamed: 0   hour     users  \\\n",
       "0               0  20:57  Alvarito   \n",
       "1               1  20:57  Alvarito   \n",
       "2               2  21:11       Eku   \n",
       "3               3  21:11       Eku   \n",
       "4               4  21:11       Eku   \n",
       "...           ...    ...       ...   \n",
       "39928       41777   9:48     Jorge   \n",
       "39929       41786   9:49     Jorge   \n",
       "39930       41787   9:54  Alvarito   \n",
       "39931       41788   9:54  Alvarito   \n",
       "39932       41789  10:01      Pete   \n",
       "\n",
       "                                                messages     date  \n",
       "0                                        Isma sal de ahi  25-6-19  \n",
       "1                                            Sino caeras  25-6-19  \n",
       "2                                            Q va cabrón  25-6-19  \n",
       "3                                       Cómo voy a caeer  25-6-19  \n",
       "4      Por cierto, ayer el chiringuito, 1h de fútbol ...  25-6-19  \n",
       "...                                                  ...      ...  \n",
       "39928  A mí me ha castigado Dios con el resfriado. Qu...  21-2-20  \n",
       "39929  Solo a ti se te ocurre montar un plan con los ...  21-2-20  \n",
       "39930                                        Que buenooo  21-2-20  \n",
       "39931                  Ummmmm nunca sabras q puede pasar  21-2-20  \n",
       "39932         cuento con antoñito, a ver q logistica usa  21-2-20  \n",
       "\n",
       "[39933 rows x 5 columns]"
      ]
     },
     "execution_count": 150,
     "metadata": {},
     "output_type": "execute_result"
    }
   ],
   "source": [
    "df"
   ]
  },
  {
   "cell_type": "code",
   "execution_count": 47,
   "metadata": {},
   "outputs": [
    {
     "name": "stdout",
     "output_type": "stream",
     "text": [
      "       Unnamed: 0   hour users                                    messages  \\\n",
      "39932       41789  10:01  Pete  cuento con antoñito, a ver q logistica usa   \n",
      "\n",
      "          date  \n",
      "39932  21-2-20  \n",
      "['Pete']\n",
      "['21-2-20']\n",
      "['10:01']\n",
      "['cuento con antoñito, a ver q logistica usa']\n"
     ]
    }
   ],
   "source": [
    "for index in range(len(df)):\n",
    "    row = df.iloc[[index]]\n",
    "    user = list(row['users'])\n",
    "    date = list(row['date'])\n",
    "    hour = list(row['hour'])\n",
    "    message = list(row['messages'])\n",
    "print(row)\n",
    "print(user)\n",
    "print(date)\n",
    "print(hour)\n",
    "print(message)"
   ]
  },
  {
   "cell_type": "code",
   "execution_count": 48,
   "metadata": {},
   "outputs": [
    {
     "data": {
      "text/plain": [
       "'cuento con antoñito, a ver q logistica usa'"
      ]
     },
     "execution_count": 48,
     "metadata": {},
     "output_type": "execute_result"
    }
   ],
   "source": [
    "message[0]"
   ]
  },
  {
   "cell_type": "code",
   "execution_count": 40,
   "metadata": {},
   "outputs": [
    {
     "data": {
      "text/plain": [
       "'Alvarito'"
      ]
     },
     "execution_count": 40,
     "metadata": {},
     "output_type": "execute_result"
    }
   ],
   "source": [
    "a = df.iloc[[0]]\n",
    "b = list(a['users'])\n",
    "b[0]"
   ]
  },
  {
   "cell_type": "code",
   "execution_count": 42,
   "metadata": {},
   "outputs": [
    {
     "data": {
      "text/plain": [
       "2"
      ]
     },
     "execution_count": 42,
     "metadata": {},
     "output_type": "execute_result"
    }
   ],
   "source": [
    "list(users.find({'user_name':b[0]}, {'user_id': 1,'_id':0}))[0]['user_id']"
   ]
  },
  {
   "cell_type": "code",
   "execution_count": 9,
   "metadata": {},
   "outputs": [
    {
     "data": {
      "text/plain": [
       "['25-6-19 20:57',\n",
       " '25-6-19 20:57',\n",
       " '25-6-19 21:11',\n",
       " '25-6-19 21:11',\n",
       " '25-6-19 21:11',\n",
       " '25-6-19 21:11',\n",
       " '25-6-19 21:19',\n",
       " '25-6-19 21:19',\n",
       " '25-6-19 21:23',\n",
       " '25-6-19 21:23',\n",
       " '25-6-19 21:23',\n",
       " '25-6-19 21:24',\n",
       " '25-6-19 21:24',\n",
       " '25-6-19 21:24',\n",
       " '25-6-19 21:24',\n",
       " '25-6-19 21:24',\n",
       " '25-6-19 21:25',\n",
       " '25-6-19 21:25',\n",
       " '25-6-19 21:25',\n",
       " '25-6-19 21:25',\n",
       " '25-6-19 21:26',\n",
       " '25-6-19 23:46',\n",
       " '26-6-19 0:05',\n",
       " '26-6-19 0:05',\n",
       " '26-6-19 0:06',\n",
       " '26-6-19 0:06',\n",
       " '26-6-19 0:19',\n",
       " '26-6-19 0:19',\n",
       " '26-6-19 0:20',\n",
       " '26-6-19 0:27',\n",
       " '26-6-19 1:03',\n",
       " '26-6-19 1:03',\n",
       " '26-6-19 1:04',\n",
       " '26-6-19 1:04',\n",
       " '26-6-19 1:04',\n",
       " '26-6-19 6:22',\n",
       " '26-6-19 6:23',\n",
       " '26-6-19 7:43',\n",
       " '26-6-19 7:43',\n",
       " '26-6-19 7:56',\n",
       " '26-6-19 7:56',\n",
       " '26-6-19 9:06',\n",
       " '26-6-19 9:22',\n",
       " '26-6-19 9:24',\n",
       " '26-6-19 9:26',\n",
       " '26-6-19 9:26',\n",
       " '26-6-19 9:26',\n",
       " '26-6-19 10:58',\n",
       " '26-6-19 10:58',\n",
       " '26-6-19 11:55',\n",
       " '26-6-19 11:55',\n",
       " '26-6-19 11:55',\n",
       " '26-6-19 11:56',\n",
       " '26-6-19 12:29',\n",
       " '26-6-19 12:45',\n",
       " '26-6-19 12:50',\n",
       " '26-6-19 13:17',\n",
       " '26-6-19 13:17',\n",
       " '26-6-19 13:18',\n",
       " '26-6-19 13:19',\n",
       " '26-6-19 13:19',\n",
       " '26-6-19 13:20',\n",
       " '26-6-19 13:21',\n",
       " '26-6-19 13:36',\n",
       " '26-6-19 13:40',\n",
       " '26-6-19 13:40',\n",
       " '26-6-19 13:41',\n",
       " '26-6-19 13:42',\n",
       " '26-6-19 13:42',\n",
       " '26-6-19 13:42',\n",
       " '26-6-19 13:42',\n",
       " '26-6-19 13:46',\n",
       " '26-6-19 13:46',\n",
       " '26-6-19 13:48',\n",
       " '26-6-19 13:49',\n",
       " '26-6-19 13:49',\n",
       " '26-6-19 13:49',\n",
       " '26-6-19 13:50',\n",
       " '26-6-19 13:52',\n",
       " '26-6-19 13:52',\n",
       " '26-6-19 13:53',\n",
       " '26-6-19 14:20',\n",
       " '26-6-19 14:24',\n",
       " '26-6-19 15:13',\n",
       " '26-6-19 16:08',\n",
       " '26-6-19 16:26',\n",
       " '26-6-19 16:26',\n",
       " '26-6-19 16:27',\n",
       " '26-6-19 16:29',\n",
       " '26-6-19 16:32',\n",
       " '26-6-19 16:42',\n",
       " '26-6-19 16:42',\n",
       " '26-6-19 16:42',\n",
       " '26-6-19 16:42',\n",
       " '26-6-19 16:43',\n",
       " '26-6-19 16:43',\n",
       " '26-6-19 16:43',\n",
       " '26-6-19 16:43',\n",
       " '26-6-19 16:43',\n",
       " '26-6-19 16:46',\n",
       " '26-6-19 16:46',\n",
       " '26-6-19 16:46',\n",
       " '26-6-19 16:46',\n",
       " '26-6-19 16:46',\n",
       " '26-6-19 16:46',\n",
       " '26-6-19 16:47',\n",
       " '26-6-19 16:47',\n",
       " '26-6-19 16:47',\n",
       " '26-6-19 16:48',\n",
       " '26-6-19 16:48',\n",
       " '26-6-19 16:48',\n",
       " '26-6-19 16:48',\n",
       " '26-6-19 16:48',\n",
       " '26-6-19 16:48',\n",
       " '26-6-19 16:49',\n",
       " '26-6-19 16:49',\n",
       " '26-6-19 16:49',\n",
       " '26-6-19 16:50',\n",
       " '26-6-19 16:50',\n",
       " '26-6-19 16:50',\n",
       " '26-6-19 16:51',\n",
       " '26-6-19 16:51',\n",
       " '26-6-19 16:53',\n",
       " '26-6-19 16:53',\n",
       " '26-6-19 16:55',\n",
       " '26-6-19 16:57',\n",
       " '26-6-19 16:57',\n",
       " '26-6-19 16:57',\n",
       " '26-6-19 17:07',\n",
       " '26-6-19 17:07',\n",
       " '26-6-19 17:08',\n",
       " '26-6-19 17:08',\n",
       " '26-6-19 17:08',\n",
       " '26-6-19 17:08',\n",
       " '26-6-19 17:09',\n",
       " '26-6-19 17:09',\n",
       " '26-6-19 17:09',\n",
       " '26-6-19 17:14',\n",
       " '26-6-19 17:15',\n",
       " '26-6-19 17:15',\n",
       " '26-6-19 17:15',\n",
       " '26-6-19 17:15',\n",
       " '26-6-19 17:15',\n",
       " '26-6-19 17:15',\n",
       " '26-6-19 17:16',\n",
       " '26-6-19 17:16',\n",
       " '26-6-19 17:16',\n",
       " '26-6-19 17:16',\n",
       " '26-6-19 17:17',\n",
       " '26-6-19 17:17',\n",
       " '26-6-19 17:17',\n",
       " '26-6-19 17:17',\n",
       " '26-6-19 17:17',\n",
       " '26-6-19 17:18',\n",
       " '26-6-19 17:19',\n",
       " '26-6-19 17:19',\n",
       " '26-6-19 17:19',\n",
       " '26-6-19 17:19',\n",
       " '26-6-19 17:19',\n",
       " '26-6-19 17:19',\n",
       " '26-6-19 17:19',\n",
       " '26-6-19 17:20',\n",
       " '26-6-19 17:20',\n",
       " '26-6-19 17:20',\n",
       " '26-6-19 17:20',\n",
       " '26-6-19 17:21',\n",
       " '26-6-19 17:21',\n",
       " '26-6-19 17:22',\n",
       " '26-6-19 17:23',\n",
       " '26-6-19 17:24',\n",
       " '26-6-19 17:24',\n",
       " '26-6-19 17:24',\n",
       " '26-6-19 17:25',\n",
       " '26-6-19 17:25',\n",
       " '26-6-19 17:25',\n",
       " '26-6-19 17:26',\n",
       " '26-6-19 17:26',\n",
       " '26-6-19 17:26',\n",
       " '26-6-19 17:26',\n",
       " '26-6-19 17:26',\n",
       " '26-6-19 17:27',\n",
       " '26-6-19 17:27',\n",
       " '26-6-19 17:27',\n",
       " '26-6-19 17:28',\n",
       " '26-6-19 17:28',\n",
       " '26-6-19 17:28',\n",
       " '26-6-19 17:28',\n",
       " '26-6-19 17:28',\n",
       " '26-6-19 17:30',\n",
       " '26-6-19 17:31',\n",
       " '26-6-19 17:31',\n",
       " '26-6-19 17:32',\n",
       " '26-6-19 17:32',\n",
       " '26-6-19 17:32',\n",
       " '26-6-19 17:32',\n",
       " '26-6-19 17:33',\n",
       " '26-6-19 17:33',\n",
       " '26-6-19 17:33',\n",
       " '26-6-19 17:34',\n",
       " '26-6-19 17:34',\n",
       " '26-6-19 17:34',\n",
       " '26-6-19 17:34',\n",
       " '26-6-19 17:34',\n",
       " '26-6-19 17:34',\n",
       " '26-6-19 17:34',\n",
       " '26-6-19 17:35',\n",
       " '26-6-19 17:35',\n",
       " '26-6-19 17:35',\n",
       " '26-6-19 17:36',\n",
       " '26-6-19 17:37',\n",
       " '26-6-19 17:37',\n",
       " '26-6-19 17:37',\n",
       " '26-6-19 17:37',\n",
       " '26-6-19 17:38',\n",
       " '26-6-19 17:42',\n",
       " '26-6-19 17:43',\n",
       " '26-6-19 17:43',\n",
       " '26-6-19 17:43',\n",
       " '26-6-19 17:43',\n",
       " '26-6-19 17:43',\n",
       " '26-6-19 17:43',\n",
       " '26-6-19 17:43',\n",
       " '26-6-19 17:43',\n",
       " '26-6-19 17:43',\n",
       " '26-6-19 17:44',\n",
       " '26-6-19 17:44',\n",
       " '26-6-19 18:38',\n",
       " '26-6-19 18:42',\n",
       " '26-6-19 18:59',\n",
       " '26-6-19 19:59',\n",
       " '26-6-19 19:59',\n",
       " '26-6-19 19:59',\n",
       " '26-6-19 20:04',\n",
       " '26-6-19 20:04',\n",
       " '26-6-19 20:05',\n",
       " '26-6-19 20:05',\n",
       " '26-6-19 20:05',\n",
       " '26-6-19 20:05',\n",
       " '26-6-19 20:05',\n",
       " '26-6-19 20:06',\n",
       " '26-6-19 20:07',\n",
       " '26-6-19 20:07',\n",
       " '26-6-19 20:08',\n",
       " '26-6-19 20:08',\n",
       " '26-6-19 20:08',\n",
       " '26-6-19 20:09',\n",
       " '26-6-19 20:10',\n",
       " '26-6-19 20:12',\n",
       " '26-6-19 20:15',\n",
       " '26-6-19 20:16',\n",
       " '26-6-19 20:24',\n",
       " '26-6-19 20:42',\n",
       " '26-6-19 20:44',\n",
       " '26-6-19 20:54',\n",
       " '26-6-19 20:54',\n",
       " '26-6-19 20:55',\n",
       " '26-6-19 21:01',\n",
       " '26-6-19 21:01',\n",
       " '26-6-19 23:00',\n",
       " '26-6-19 23:01',\n",
       " '26-6-19 23:01',\n",
       " '27-6-19 0:04',\n",
       " '27-6-19 0:05',\n",
       " '27-6-19 0:05',\n",
       " '27-6-19 0:06',\n",
       " '27-6-19 0:06',\n",
       " '27-6-19 0:07',\n",
       " '27-6-19 0:07',\n",
       " '27-6-19 0:09',\n",
       " '27-6-19 0:12',\n",
       " '27-6-19 0:12',\n",
       " '27-6-19 0:12',\n",
       " '27-6-19 0:13',\n",
       " '27-6-19 0:14',\n",
       " '27-6-19 0:15',\n",
       " '27-6-19 0:15',\n",
       " '27-6-19 0:16',\n",
       " '27-6-19 0:16',\n",
       " '27-6-19 0:16',\n",
       " '27-6-19 0:17',\n",
       " '27-6-19 0:17',\n",
       " '27-6-19 0:17',\n",
       " '27-6-19 0:17',\n",
       " '27-6-19 0:17',\n",
       " '27-6-19 0:17',\n",
       " '27-6-19 0:17',\n",
       " '27-6-19 0:17',\n",
       " '27-6-19 0:17',\n",
       " '27-6-19 0:18',\n",
       " '27-6-19 0:18',\n",
       " '27-6-19 7:54',\n",
       " '27-6-19 7:54',\n",
       " '27-6-19 7:54',\n",
       " '27-6-19 7:54',\n",
       " '27-6-19 7:54',\n",
       " '27-6-19 7:54',\n",
       " '27-6-19 8:02',\n",
       " '27-6-19 8:02',\n",
       " '27-6-19 8:04',\n",
       " '27-6-19 8:06',\n",
       " '27-6-19 8:06',\n",
       " '27-6-19 8:07',\n",
       " '27-6-19 8:08',\n",
       " '27-6-19 8:09',\n",
       " '27-6-19 8:09',\n",
       " '27-6-19 8:10',\n",
       " '27-6-19 8:10',\n",
       " '27-6-19 8:10',\n",
       " '27-6-19 8:10',\n",
       " '27-6-19 8:10',\n",
       " '27-6-19 8:11',\n",
       " '27-6-19 8:18',\n",
       " '27-6-19 8:23',\n",
       " '27-6-19 8:23',\n",
       " '27-6-19 8:31',\n",
       " '27-6-19 8:31',\n",
       " '27-6-19 8:31',\n",
       " '27-6-19 8:39',\n",
       " '27-6-19 8:40',\n",
       " '27-6-19 8:40',\n",
       " '27-6-19 8:40',\n",
       " '27-6-19 8:41',\n",
       " '27-6-19 8:41',\n",
       " '27-6-19 8:41',\n",
       " '27-6-19 8:53',\n",
       " '27-6-19 8:53',\n",
       " '27-6-19 8:59',\n",
       " '27-6-19 8:59',\n",
       " '27-6-19 9:08',\n",
       " '27-6-19 9:11',\n",
       " '27-6-19 9:14',\n",
       " '27-6-19 9:15',\n",
       " '27-6-19 11:09',\n",
       " '27-6-19 11:09',\n",
       " '27-6-19 11:09',\n",
       " '27-6-19 11:09',\n",
       " '27-6-19 11:11',\n",
       " '27-6-19 11:12',\n",
       " '27-6-19 11:12',\n",
       " '27-6-19 11:12',\n",
       " '27-6-19 11:12',\n",
       " '27-6-19 11:12',\n",
       " '27-6-19 11:13',\n",
       " '27-6-19 11:14',\n",
       " '27-6-19 11:14',\n",
       " '27-6-19 11:15',\n",
       " '27-6-19 11:16',\n",
       " '27-6-19 11:16',\n",
       " '27-6-19 11:16',\n",
       " '27-6-19 11:19',\n",
       " '27-6-19 11:19',\n",
       " '27-6-19 11:19',\n",
       " '27-6-19 11:19',\n",
       " '27-6-19 11:19',\n",
       " '27-6-19 11:22',\n",
       " '27-6-19 11:24',\n",
       " '27-6-19 11:33',\n",
       " '27-6-19 11:33',\n",
       " '27-6-19 11:33',\n",
       " '27-6-19 11:33',\n",
       " '27-6-19 11:33',\n",
       " '27-6-19 11:33',\n",
       " '27-6-19 11:34',\n",
       " '27-6-19 11:34',\n",
       " '27-6-19 11:34',\n",
       " '27-6-19 11:34',\n",
       " '27-6-19 11:34',\n",
       " '27-6-19 11:34',\n",
       " '27-6-19 11:35',\n",
       " '27-6-19 11:35',\n",
       " '27-6-19 11:35',\n",
       " '27-6-19 11:35',\n",
       " '27-6-19 11:35',\n",
       " '27-6-19 11:36',\n",
       " '27-6-19 12:05',\n",
       " '27-6-19 12:05',\n",
       " '27-6-19 12:06',\n",
       " '27-6-19 12:06',\n",
       " '27-6-19 12:07',\n",
       " '27-6-19 12:07',\n",
       " '27-6-19 12:09',\n",
       " '27-6-19 12:09',\n",
       " '27-6-19 12:09',\n",
       " '27-6-19 12:09',\n",
       " '27-6-19 12:09',\n",
       " '27-6-19 12:10',\n",
       " '27-6-19 12:10',\n",
       " '27-6-19 12:11',\n",
       " '27-6-19 12:11',\n",
       " '27-6-19 12:15',\n",
       " '27-6-19 12:15',\n",
       " '27-6-19 12:15',\n",
       " '27-6-19 12:16',\n",
       " '27-6-19 12:16',\n",
       " '27-6-19 12:16',\n",
       " '27-6-19 12:16',\n",
       " '27-6-19 12:16',\n",
       " '27-6-19 12:16',\n",
       " '27-6-19 12:17',\n",
       " '27-6-19 12:17',\n",
       " '27-6-19 12:18',\n",
       " '27-6-19 12:18',\n",
       " '27-6-19 12:18',\n",
       " '27-6-19 12:18',\n",
       " '27-6-19 12:18',\n",
       " '27-6-19 12:18',\n",
       " '27-6-19 12:19',\n",
       " '27-6-19 12:19',\n",
       " '27-6-19 12:20',\n",
       " '27-6-19 12:20',\n",
       " '27-6-19 12:20',\n",
       " '27-6-19 12:21',\n",
       " '27-6-19 12:21',\n",
       " '27-6-19 12:22',\n",
       " '27-6-19 12:22',\n",
       " '27-6-19 13:19',\n",
       " '27-6-19 13:20',\n",
       " '27-6-19 13:20',\n",
       " '27-6-19 13:20',\n",
       " '27-6-19 15:09',\n",
       " '27-6-19 15:09',\n",
       " '27-6-19 15:19',\n",
       " '27-6-19 15:19',\n",
       " '27-6-19 15:23',\n",
       " '27-6-19 15:49',\n",
       " '27-6-19 15:49',\n",
       " '27-6-19 15:49',\n",
       " '27-6-19 15:49',\n",
       " '27-6-19 15:50',\n",
       " '27-6-19 15:50',\n",
       " '27-6-19 15:50',\n",
       " '27-6-19 16:06',\n",
       " '27-6-19 16:06',\n",
       " '27-6-19 16:06',\n",
       " '27-6-19 16:17',\n",
       " '27-6-19 16:19',\n",
       " '27-6-19 16:21',\n",
       " '27-6-19 16:38',\n",
       " '27-6-19 16:38',\n",
       " '27-6-19 16:38',\n",
       " '27-6-19 16:43',\n",
       " '27-6-19 16:43',\n",
       " '27-6-19 16:44',\n",
       " '27-6-19 16:44',\n",
       " '27-6-19 16:44',\n",
       " '27-6-19 16:44',\n",
       " '27-6-19 16:44',\n",
       " '27-6-19 16:44',\n",
       " '27-6-19 16:44',\n",
       " '27-6-19 16:45',\n",
       " '27-6-19 16:45',\n",
       " '27-6-19 16:46',\n",
       " '27-6-19 16:46',\n",
       " '27-6-19 16:46',\n",
       " '27-6-19 16:46',\n",
       " '27-6-19 16:47',\n",
       " '27-6-19 16:47',\n",
       " '27-6-19 16:47',\n",
       " '27-6-19 16:47',\n",
       " '27-6-19 16:47',\n",
       " '27-6-19 16:47',\n",
       " '27-6-19 16:56',\n",
       " '27-6-19 16:57',\n",
       " '27-6-19 16:57',\n",
       " '27-6-19 16:57',\n",
       " '27-6-19 16:59',\n",
       " '27-6-19 17:05',\n",
       " '27-6-19 17:05',\n",
       " '27-6-19 17:06',\n",
       " '27-6-19 17:06',\n",
       " '27-6-19 17:06',\n",
       " '27-6-19 17:07',\n",
       " '27-6-19 17:07',\n",
       " '27-6-19 17:08',\n",
       " '27-6-19 17:08',\n",
       " '27-6-19 17:08',\n",
       " '27-6-19 17:08',\n",
       " '27-6-19 17:08',\n",
       " '27-6-19 17:09',\n",
       " '27-6-19 17:09',\n",
       " '27-6-19 17:09',\n",
       " '27-6-19 17:09',\n",
       " '27-6-19 17:10',\n",
       " '27-6-19 17:10',\n",
       " '27-6-19 17:10',\n",
       " '27-6-19 17:10',\n",
       " '27-6-19 17:11',\n",
       " '27-6-19 17:15',\n",
       " '27-6-19 17:17',\n",
       " '27-6-19 17:18',\n",
       " '27-6-19 17:20',\n",
       " '27-6-19 17:23',\n",
       " '27-6-19 17:23',\n",
       " '27-6-19 17:24',\n",
       " '27-6-19 17:24',\n",
       " '27-6-19 17:24',\n",
       " '27-6-19 17:32',\n",
       " '27-6-19 17:33',\n",
       " '27-6-19 17:35',\n",
       " '27-6-19 17:35',\n",
       " '27-6-19 17:35',\n",
       " '27-6-19 17:36',\n",
       " '27-6-19 17:37',\n",
       " '27-6-19 17:50',\n",
       " '27-6-19 17:50',\n",
       " '27-6-19 17:50',\n",
       " '27-6-19 17:52',\n",
       " '27-6-19 17:52',\n",
       " '27-6-19 17:52',\n",
       " '27-6-19 17:55',\n",
       " '27-6-19 17:55',\n",
       " '27-6-19 17:55',\n",
       " '27-6-19 17:57',\n",
       " '27-6-19 17:57',\n",
       " '27-6-19 17:57',\n",
       " '27-6-19 18:04',\n",
       " '27-6-19 18:08',\n",
       " '27-6-19 18:09',\n",
       " '27-6-19 18:11',\n",
       " '27-6-19 18:11',\n",
       " '27-6-19 18:11',\n",
       " '27-6-19 18:11',\n",
       " '27-6-19 18:11',\n",
       " '27-6-19 18:13',\n",
       " '27-6-19 18:13',\n",
       " '27-6-19 18:13',\n",
       " '27-6-19 18:13',\n",
       " '27-6-19 18:13',\n",
       " '27-6-19 18:13',\n",
       " '27-6-19 18:14',\n",
       " '27-6-19 18:14',\n",
       " '27-6-19 18:14',\n",
       " '27-6-19 18:15',\n",
       " '27-6-19 19:49',\n",
       " '27-6-19 19:50',\n",
       " '27-6-19 20:25',\n",
       " '27-6-19 20:25',\n",
       " '27-6-19 20:25',\n",
       " '27-6-19 20:26',\n",
       " '27-6-19 20:26',\n",
       " '27-6-19 20:26',\n",
       " '27-6-19 20:26',\n",
       " '27-6-19 20:26',\n",
       " '27-6-19 21:38',\n",
       " '27-6-19 21:38',\n",
       " '27-6-19 21:38',\n",
       " '27-6-19 22:58',\n",
       " '28-6-19 9:32',\n",
       " '28-6-19 9:38',\n",
       " '28-6-19 9:42',\n",
       " '28-6-19 9:42',\n",
       " '28-6-19 9:42',\n",
       " '28-6-19 9:43',\n",
       " '28-6-19 9:43',\n",
       " '28-6-19 9:44',\n",
       " '28-6-19 9:45',\n",
       " '28-6-19 9:45',\n",
       " '28-6-19 9:46',\n",
       " '28-6-19 9:46',\n",
       " '28-6-19 9:46',\n",
       " '28-6-19 9:47',\n",
       " '28-6-19 9:47',\n",
       " '28-6-19 9:47',\n",
       " '28-6-19 9:47',\n",
       " '28-6-19 9:47',\n",
       " '28-6-19 9:47',\n",
       " '28-6-19 9:48',\n",
       " '28-6-19 9:48',\n",
       " '28-6-19 9:52',\n",
       " '28-6-19 9:52',\n",
       " '28-6-19 9:55',\n",
       " '28-6-19 9:58',\n",
       " '28-6-19 10:01',\n",
       " '28-6-19 10:01',\n",
       " '28-6-19 10:01',\n",
       " '28-6-19 10:12',\n",
       " '28-6-19 10:12',\n",
       " '28-6-19 10:12',\n",
       " '28-6-19 10:52',\n",
       " '28-6-19 10:52',\n",
       " '28-6-19 10:52',\n",
       " '28-6-19 10:52',\n",
       " '28-6-19 11:14',\n",
       " '28-6-19 11:40',\n",
       " '28-6-19 11:43',\n",
       " '28-6-19 11:45',\n",
       " '28-6-19 11:46',\n",
       " '28-6-19 12:12',\n",
       " '28-6-19 13:14',\n",
       " '28-6-19 13:17',\n",
       " '28-6-19 13:32',\n",
       " '28-6-19 13:32',\n",
       " '28-6-19 13:33',\n",
       " '28-6-19 13:33',\n",
       " '28-6-19 13:33',\n",
       " '28-6-19 13:34',\n",
       " '28-6-19 13:34',\n",
       " '28-6-19 13:36',\n",
       " '28-6-19 13:36',\n",
       " '28-6-19 13:42',\n",
       " '28-6-19 13:43',\n",
       " '28-6-19 13:43',\n",
       " '28-6-19 14:06',\n",
       " '28-6-19 16:21',\n",
       " '28-6-19 16:21',\n",
       " '28-6-19 16:21',\n",
       " '28-6-19 16:21',\n",
       " '28-6-19 22:15',\n",
       " '28-6-19 22:16',\n",
       " '28-6-19 22:25',\n",
       " '28-6-19 22:25',\n",
       " '28-6-19 22:33',\n",
       " '28-6-19 22:33',\n",
       " '28-6-19 22:33',\n",
       " '28-6-19 22:42',\n",
       " '28-6-19 22:43',\n",
       " '28-6-19 22:44',\n",
       " '28-6-19 22:44',\n",
       " '28-6-19 22:45',\n",
       " '28-6-19 22:46',\n",
       " '28-6-19 22:46',\n",
       " '28-6-19 23:32',\n",
       " '28-6-19 23:33',\n",
       " '28-6-19 23:44',\n",
       " '28-6-19 23:44',\n",
       " '28-6-19 23:45',\n",
       " '28-6-19 23:50',\n",
       " '28-6-19 23:50',\n",
       " '28-6-19 23:50',\n",
       " '28-6-19 23:51',\n",
       " '28-6-19 23:51',\n",
       " '28-6-19 23:51',\n",
       " '28-6-19 23:51',\n",
       " '28-6-19 23:57',\n",
       " '28-6-19 23:57',\n",
       " '28-6-19 23:57',\n",
       " '28-6-19 23:57',\n",
       " '28-6-19 23:57',\n",
       " '28-6-19 23:57',\n",
       " '29-6-19 0:01',\n",
       " '29-6-19 0:03',\n",
       " '29-6-19 0:14',\n",
       " '29-6-19 0:16',\n",
       " '29-6-19 0:16',\n",
       " '29-6-19 0:19',\n",
       " '29-6-19 0:46',\n",
       " '29-6-19 1:10',\n",
       " '29-6-19 1:11',\n",
       " '29-6-19 1:14',\n",
       " '29-6-19 1:19',\n",
       " '29-6-19 1:19',\n",
       " '29-6-19 1:28',\n",
       " '29-6-19 1:31',\n",
       " '29-6-19 1:31',\n",
       " '29-6-19 2:02',\n",
       " '29-6-19 2:14',\n",
       " '29-6-19 2:14',\n",
       " '29-6-19 2:14',\n",
       " '29-6-19 2:14',\n",
       " '29-6-19 2:14',\n",
       " '29-6-19 2:15',\n",
       " '29-6-19 2:15',\n",
       " '29-6-19 2:18',\n",
       " '29-6-19 2:45',\n",
       " '29-6-19 3:18',\n",
       " '29-6-19 10:33',\n",
       " '29-6-19 11:07',\n",
       " '29-6-19 11:07',\n",
       " '29-6-19 11:07',\n",
       " '29-6-19 11:07',\n",
       " '29-6-19 11:18',\n",
       " '29-6-19 11:30',\n",
       " '29-6-19 11:30',\n",
       " '29-6-19 11:30',\n",
       " '29-6-19 11:30',\n",
       " '29-6-19 11:47',\n",
       " '29-6-19 12:08',\n",
       " '29-6-19 12:22',\n",
       " '29-6-19 12:51',\n",
       " '29-6-19 12:59',\n",
       " '29-6-19 12:59',\n",
       " '29-6-19 13:04',\n",
       " '29-6-19 13:04',\n",
       " '29-6-19 13:04',\n",
       " '29-6-19 13:04',\n",
       " '29-6-19 13:08',\n",
       " '29-6-19 13:08',\n",
       " '29-6-19 13:09',\n",
       " '29-6-19 13:35',\n",
       " '29-6-19 15:31',\n",
       " '29-6-19 15:31',\n",
       " '29-6-19 15:31',\n",
       " '29-6-19 15:33',\n",
       " '29-6-19 15:34',\n",
       " '29-6-19 15:36',\n",
       " '29-6-19 15:36',\n",
       " '29-6-19 15:37',\n",
       " '29-6-19 15:59',\n",
       " '29-6-19 16:20',\n",
       " '29-6-19 16:52',\n",
       " '29-6-19 16:52',\n",
       " '29-6-19 17:05',\n",
       " '29-6-19 17:26',\n",
       " '29-6-19 17:26',\n",
       " '29-6-19 17:27',\n",
       " '29-6-19 17:28',\n",
       " '29-6-19 17:29',\n",
       " '29-6-19 17:30',\n",
       " '29-6-19 17:48',\n",
       " '29-6-19 17:54',\n",
       " '29-6-19 17:56',\n",
       " '29-6-19 17:57',\n",
       " '29-6-19 17:58',\n",
       " '29-6-19 18:15',\n",
       " '29-6-19 18:15',\n",
       " '29-6-19 22:23',\n",
       " '29-6-19 22:24',\n",
       " '29-6-19 22:24',\n",
       " '29-6-19 22:26',\n",
       " '29-6-19 22:26',\n",
       " '29-6-19 22:27',\n",
       " '29-6-19 22:27',\n",
       " '29-6-19 22:34',\n",
       " '29-6-19 22:34',\n",
       " '29-6-19 22:49',\n",
       " '29-6-19 23:06',\n",
       " '29-6-19 23:06',\n",
       " '30-6-19 3:18',\n",
       " '30-6-19 3:18',\n",
       " '30-6-19 3:18',\n",
       " '30-6-19 3:18',\n",
       " '30-6-19 8:32',\n",
       " '30-6-19 11:43',\n",
       " '30-6-19 11:44',\n",
       " '30-6-19 11:44',\n",
       " '30-6-19 11:58',\n",
       " '30-6-19 11:59',\n",
       " '30-6-19 11:59',\n",
       " '30-6-19 11:59',\n",
       " '30-6-19 12:10',\n",
       " '30-6-19 12:12',\n",
       " '30-6-19 12:12',\n",
       " '30-6-19 12:27',\n",
       " '30-6-19 12:28',\n",
       " '30-6-19 12:49',\n",
       " '30-6-19 13:11',\n",
       " '30-6-19 13:34',\n",
       " '30-6-19 13:35',\n",
       " '30-6-19 13:35',\n",
       " '30-6-19 14:34',\n",
       " '30-6-19 14:35',\n",
       " '30-6-19 14:35',\n",
       " '30-6-19 14:41',\n",
       " '30-6-19 14:42',\n",
       " '30-6-19 14:42',\n",
       " '30-6-19 14:43',\n",
       " '30-6-19 14:57',\n",
       " '30-6-19 15:00',\n",
       " '30-6-19 19:10',\n",
       " '30-6-19 19:10',\n",
       " '30-6-19 19:10',\n",
       " '30-6-19 21:06',\n",
       " '30-6-19 21:20',\n",
       " '30-6-19 21:38',\n",
       " '30-6-19 21:38',\n",
       " '30-6-19 22:29',\n",
       " '30-6-19 22:30',\n",
       " '30-6-19 22:30',\n",
       " '30-6-19 22:31',\n",
       " '30-6-19 22:31',\n",
       " '30-6-19 22:32',\n",
       " '30-6-19 22:32',\n",
       " '30-6-19 22:32',\n",
       " '30-6-19 22:53',\n",
       " '30-6-19 22:53',\n",
       " '30-6-19 23:00',\n",
       " '30-6-19 23:10',\n",
       " '30-6-19 23:10',\n",
       " '1-7-19 0:41',\n",
       " '1-7-19 1:00',\n",
       " '1-7-19 1:38',\n",
       " '1-7-19 1:38',\n",
       " '1-7-19 1:39',\n",
       " '1-7-19 1:39',\n",
       " '1-7-19 1:41',\n",
       " '1-7-19 1:41',\n",
       " '1-7-19 1:41',\n",
       " '1-7-19 1:41',\n",
       " '1-7-19 1:42',\n",
       " '1-7-19 1:42',\n",
       " '1-7-19 1:42',\n",
       " '1-7-19 1:42',\n",
       " '1-7-19 1:42',\n",
       " '1-7-19 1:42',\n",
       " '1-7-19 1:42',\n",
       " '1-7-19 1:43',\n",
       " '1-7-19 1:43',\n",
       " '1-7-19 1:43',\n",
       " '1-7-19 1:43',\n",
       " '1-7-19 1:43',\n",
       " '1-7-19 1:53',\n",
       " '1-7-19 11:01',\n",
       " '1-7-19 11:02',\n",
       " '1-7-19 11:02',\n",
       " '1-7-19 11:02',\n",
       " '1-7-19 11:02',\n",
       " '1-7-19 11:03',\n",
       " '1-7-19 11:06',\n",
       " '1-7-19 11:25',\n",
       " '1-7-19 11:25',\n",
       " '1-7-19 11:29',\n",
       " '1-7-19 16:32',\n",
       " '1-7-19 18:43',\n",
       " '1-7-19 18:44',\n",
       " '1-7-19 18:45',\n",
       " '1-7-19 18:45',\n",
       " '1-7-19 18:45',\n",
       " '1-7-19 18:46',\n",
       " '1-7-19 18:46',\n",
       " '1-7-19 18:48',\n",
       " '1-7-19 18:48',\n",
       " '1-7-19 18:48',\n",
       " '1-7-19 18:54',\n",
       " '1-7-19 18:54',\n",
       " '1-7-19 18:55',\n",
       " '1-7-19 19:00',\n",
       " '1-7-19 19:01',\n",
       " '1-7-19 19:07',\n",
       " '1-7-19 19:07',\n",
       " '1-7-19 19:07',\n",
       " '1-7-19 19:13',\n",
       " '1-7-19 19:25',\n",
       " '1-7-19 19:25',\n",
       " '1-7-19 19:26',\n",
       " '1-7-19 19:26',\n",
       " '1-7-19 19:27',\n",
       " '1-7-19 19:27',\n",
       " '1-7-19 19:33',\n",
       " '1-7-19 19:33',\n",
       " '1-7-19 19:41',\n",
       " '1-7-19 19:41',\n",
       " '1-7-19 19:42',\n",
       " '1-7-19 19:42',\n",
       " '1-7-19 19:43',\n",
       " '1-7-19 19:45',\n",
       " '1-7-19 19:45',\n",
       " '1-7-19 19:46',\n",
       " '1-7-19 19:46',\n",
       " '1-7-19 19:54',\n",
       " '1-7-19 19:54',\n",
       " '1-7-19 19:59',\n",
       " '1-7-19 19:59',\n",
       " '1-7-19 20:00',\n",
       " '1-7-19 20:00',\n",
       " '1-7-19 20:00',\n",
       " '1-7-19 20:02',\n",
       " '1-7-19 20:11',\n",
       " '1-7-19 20:12',\n",
       " '1-7-19 20:36',\n",
       " '1-7-19 20:37',\n",
       " '1-7-19 20:40',\n",
       " '1-7-19 20:44',\n",
       " '1-7-19 21:50',\n",
       " '1-7-19 21:50',\n",
       " '1-7-19 21:50',\n",
       " '1-7-19 21:50',\n",
       " '1-7-19 21:50',\n",
       " '1-7-19 21:50',\n",
       " '1-7-19 21:52',\n",
       " '1-7-19 21:59',\n",
       " '1-7-19 22:01',\n",
       " '1-7-19 22:15',\n",
       " '1-7-19 22:26',\n",
       " '1-7-19 23:25',\n",
       " '1-7-19 23:26',\n",
       " '1-7-19 23:26',\n",
       " '1-7-19 23:32',\n",
       " '1-7-19 23:32',\n",
       " '1-7-19 23:32',\n",
       " '1-7-19 23:32',\n",
       " '1-7-19 23:32',\n",
       " '1-7-19 23:32',\n",
       " '1-7-19 23:32',\n",
       " '1-7-19 23:33',\n",
       " '1-7-19 23:33',\n",
       " '1-7-19 23:33',\n",
       " '1-7-19 23:33',\n",
       " '1-7-19 23:34',\n",
       " '1-7-19 23:35',\n",
       " '1-7-19 23:35',\n",
       " '1-7-19 23:35',\n",
       " '1-7-19 23:42',\n",
       " '1-7-19 23:42',\n",
       " '1-7-19 23:43',\n",
       " '1-7-19 23:43',\n",
       " '1-7-19 23:43',\n",
       " '1-7-19 23:43',\n",
       " '1-7-19 23:43',\n",
       " '1-7-19 23:43',\n",
       " '1-7-19 23:43',\n",
       " '1-7-19 23:44',\n",
       " '1-7-19 23:45',\n",
       " '1-7-19 23:45',\n",
       " '1-7-19 23:45',\n",
       " '1-7-19 23:46',\n",
       " '1-7-19 23:47',\n",
       " '1-7-19 23:50',\n",
       " '1-7-19 23:54',\n",
       " '1-7-19 23:54',\n",
       " '1-7-19 23:57',\n",
       " '2-7-19 6:49',\n",
       " '2-7-19 7:12',\n",
       " '2-7-19 7:17',\n",
       " '2-7-19 7:17',\n",
       " '2-7-19 7:17',\n",
       " '2-7-19 7:17',\n",
       " '2-7-19 7:18',\n",
       " '2-7-19 7:18',\n",
       " '2-7-19 7:20',\n",
       " '2-7-19 7:20',\n",
       " '2-7-19 8:08',\n",
       " '2-7-19 8:20',\n",
       " '2-7-19 8:20',\n",
       " '2-7-19 9:22',\n",
       " '2-7-19 9:22',\n",
       " '2-7-19 10:41',\n",
       " '2-7-19 10:41',\n",
       " '2-7-19 10:42',\n",
       " '2-7-19 10:42',\n",
       " '2-7-19 11:03',\n",
       " '2-7-19 11:08',\n",
       " '2-7-19 11:18',\n",
       " '2-7-19 11:19',\n",
       " '2-7-19 11:19',\n",
       " '2-7-19 11:19',\n",
       " '2-7-19 11:19',\n",
       " '2-7-19 11:19',\n",
       " '2-7-19 11:20',\n",
       " '2-7-19 11:22',\n",
       " '2-7-19 11:22',\n",
       " '2-7-19 11:22',\n",
       " '2-7-19 11:22',\n",
       " '2-7-19 11:23',\n",
       " '2-7-19 11:23',\n",
       " '2-7-19 11:23',\n",
       " '2-7-19 11:23',\n",
       " '2-7-19 11:23',\n",
       " '2-7-19 11:23',\n",
       " '2-7-19 11:23',\n",
       " '2-7-19 11:24',\n",
       " '2-7-19 11:24',\n",
       " '2-7-19 11:24',\n",
       " '2-7-19 11:24',\n",
       " '2-7-19 11:25',\n",
       " '2-7-19 11:25',\n",
       " '2-7-19 11:34',\n",
       " '2-7-19 11:34',\n",
       " '2-7-19 11:34',\n",
       " '2-7-19 11:37',\n",
       " '2-7-19 11:45',\n",
       " '2-7-19 11:45',\n",
       " '2-7-19 11:45',\n",
       " '2-7-19 11:46',\n",
       " '2-7-19 11:46',\n",
       " '2-7-19 11:46',\n",
       " '2-7-19 11:46',\n",
       " '2-7-19 11:46',\n",
       " '2-7-19 11:47',\n",
       " '2-7-19 11:47',\n",
       " '2-7-19 11:47',\n",
       " '2-7-19 11:47',\n",
       " '2-7-19 11:48',\n",
       " '2-7-19 11:48',\n",
       " '2-7-19 11:48',\n",
       " '2-7-19 11:48',\n",
       " '2-7-19 11:49',\n",
       " '2-7-19 11:49',\n",
       " '2-7-19 11:49',\n",
       " '2-7-19 11:50',\n",
       " '2-7-19 11:51',\n",
       " '2-7-19 11:51',\n",
       " '2-7-19 11:51',\n",
       " '2-7-19 11:51',\n",
       " '2-7-19 11:53',\n",
       " '2-7-19 11:53',\n",
       " '2-7-19 11:53',\n",
       " '2-7-19 11:55',\n",
       " '2-7-19 11:55',\n",
       " '2-7-19 11:55',\n",
       " '2-7-19 11:57',\n",
       " '2-7-19 11:57',\n",
       " '2-7-19 11:58',\n",
       " '2-7-19 11:58',\n",
       " '2-7-19 11:58',\n",
       " '2-7-19 12:10',\n",
       " '2-7-19 12:11',\n",
       " '2-7-19 12:11',\n",
       " '2-7-19 12:11',\n",
       " '2-7-19 12:11',\n",
       " '2-7-19 12:34',\n",
       " ...]"
      ]
     },
     "execution_count": 9,
     "metadata": {},
     "output_type": "execute_result"
    }
   ],
   "source": [
    "b = []\n",
    "for i in range(len(date)):\n",
    "    a = date[i]+' '+hour[i]\n",
    "    b.append(a)\n",
    "b"
   ]
  },
  {
   "cell_type": "code",
   "execution_count": 45,
   "metadata": {},
   "outputs": [
    {
     "data": {
      "text/plain": [
       "['25-6-19', '20:57']"
      ]
     },
     "execution_count": 45,
     "metadata": {},
     "output_type": "execute_result"
    }
   ],
   "source": [
    "a = ['25-6-19']\n",
    "b = ['20:57']\n",
    "c = a + b\n",
    "c"
   ]
  },
  {
   "cell_type": "code",
   "execution_count": 71,
   "metadata": {},
   "outputs": [
    {
     "data": {
      "text/html": [
       "<div>\n",
       "<style scoped>\n",
       "    .dataframe tbody tr th:only-of-type {\n",
       "        vertical-align: middle;\n",
       "    }\n",
       "\n",
       "    .dataframe tbody tr th {\n",
       "        vertical-align: top;\n",
       "    }\n",
       "\n",
       "    .dataframe thead th {\n",
       "        text-align: right;\n",
       "    }\n",
       "</style>\n",
       "<table border=\"1\" class=\"dataframe\">\n",
       "  <thead>\n",
       "    <tr style=\"text-align: right;\">\n",
       "      <th></th>\n",
       "      <th>0</th>\n",
       "    </tr>\n",
       "  </thead>\n",
       "  <tbody>\n",
       "    <tr>\n",
       "      <th>a</th>\n",
       "      <td>5</td>\n",
       "    </tr>\n",
       "    <tr>\n",
       "      <th>b</th>\n",
       "      <td>4</td>\n",
       "    </tr>\n",
       "    <tr>\n",
       "      <th>c</th>\n",
       "      <td>9</td>\n",
       "    </tr>\n",
       "  </tbody>\n",
       "</table>\n",
       "</div>"
      ],
      "text/plain": [
       "   0\n",
       "a  5\n",
       "b  4\n",
       "c  9"
      ]
     },
     "execution_count": 71,
     "metadata": {},
     "output_type": "execute_result"
    }
   ],
   "source": [
    "a = {\n",
    "    'a':5,\n",
    "    'b':4,\n",
    "    'c':9\n",
    "}\n",
    "b = pd.DataFrame(a,index=[0])\n",
    "b.T"
   ]
  },
  {
   "cell_type": "code",
   "execution_count": 1,
   "metadata": {},
   "outputs": [
    {
     "data": {
      "text/plain": [
       "{'x': 2.0}"
      ]
     },
     "execution_count": 1,
     "metadata": {},
     "output_type": "execute_result"
    }
   ],
   "source": [
    "mensajes = {}\n",
    "for x in range(5):\n",
    "    notas = []\n",
    "    for x in range(5):\n",
    "        notas.append(x)\n",
    "    average = sum(notas)/len(notas)\n",
    "    mensajes['x'] = average\n",
    "mensajes"
   ]
  }
 ],
 "metadata": {
  "kernelspec": {
   "display_name": "Python 3",
   "language": "python",
   "name": "python3"
  },
  "language_info": {
   "codemirror_mode": {
    "name": "ipython",
    "version": 3
   },
   "file_extension": ".py",
   "mimetype": "text/x-python",
   "name": "python",
   "nbconvert_exporter": "python",
   "pygments_lexer": "ipython3",
   "version": "3.6.9"
  }
 },
 "nbformat": 4,
 "nbformat_minor": 2
}
