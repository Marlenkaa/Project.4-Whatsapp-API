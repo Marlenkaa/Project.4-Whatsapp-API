{
 "cells": [
  {
   "cell_type": "code",
   "execution_count": 1,
   "metadata": {},
   "outputs": [],
   "source": [
    "import requests\n",
    "import pandas as pd\n",
    "import random\n",
    "from pymongo import MongoClient"
   ]
  },
  {
   "cell_type": "code",
   "execution_count": 2,
   "metadata": {},
   "outputs": [],
   "source": [
    "# Connect to MongoDB\n",
    "client = MongoClient(\"mongodb://localhost:27017/apichat\")\n",
    "\n",
    "# Reading database collections\n",
    "users = client.get_default_database()['users']\n",
    "chats = client.get_default_database()['chats']\n",
    "conversations = client.get_default_database()['conversations']"
   ]
  },
  {
   "cell_type": "markdown",
   "metadata": {},
   "source": [
    "#### - Creates the hole database from whatsapp chat in MongoDB as follows:\n",
    "\n",
    "![mongodb](images/apichat-mongodb.png)"
   ]
  },
  {
   "cell_type": "code",
   "execution_count": 45,
   "metadata": {},
   "outputs": [
    {
     "data": {
      "text/plain": [
       "'Database created'"
      ]
     },
     "execution_count": 45,
     "metadata": {},
     "output_type": "execute_result"
    }
   ],
   "source": [
    "requests.get('http://localhost:5000//createdatabase').text"
   ]
  },
  {
   "cell_type": "markdown",
   "metadata": {},
   "source": [
    "#### - Inserts a new user into dabase. We make a test with *'userTest'* name"
   ]
  },
  {
   "cell_type": "code",
   "execution_count": 3,
   "metadata": {},
   "outputs": [
    {
     "data": {
      "text/plain": [
       "'User \"userTest\" has been inserted into users collection'"
      ]
     },
     "execution_count": 3,
     "metadata": {},
     "output_type": "execute_result"
    }
   ],
   "source": [
    "requests.get('http://localhost:5000//insert/user/userTest').text"
   ]
  },
  {
   "cell_type": "code",
   "execution_count": 4,
   "metadata": {},
   "outputs": [
    {
     "data": {
      "text/plain": [
       "[{'_id': ObjectId('5e543bde2de0b4b202a79480'),\n",
       "  'user_id': 15,\n",
       "  'user_name': 'userTest'}]"
      ]
     },
     "execution_count": 4,
     "metadata": {},
     "output_type": "execute_result"
    }
   ],
   "source": [
    "# Checks if user was created\n",
    "list(users.find({'user_name':'userTest'}))"
   ]
  },
  {
   "cell_type": "markdown",
   "metadata": {},
   "source": [
    "#### - Inserts a new chat into dabase. We make a test with *'userTest'*"
   ]
  },
  {
   "cell_type": "code",
   "execution_count": 5,
   "metadata": {},
   "outputs": [
    {
     "data": {
      "text/plain": [
       "'Chat has been inserted into chats collection'"
      ]
     },
     "execution_count": 5,
     "metadata": {},
     "output_type": "execute_result"
    }
   ],
   "source": [
    "requests.get('http://localhost:5000//insert/chat/userTest').text"
   ]
  },
  {
   "cell_type": "code",
   "execution_count": 7,
   "metadata": {},
   "outputs": [
    {
     "data": {
      "text/plain": [
       "[{'_id': ObjectId('5e543c012de0b4b202a79481'),\n",
       "  'chat_date': '24-02-2020',\n",
       "  'chat_id': 242,\n",
       "  'user_id': 15}]"
      ]
     },
     "execution_count": 7,
     "metadata": {},
     "output_type": "execute_result"
    }
   ],
   "source": [
    "# Checks if chat with new user was created\n",
    "list(chats.find({'chat_date':'24-02-2020'}))"
   ]
  },
  {
   "cell_type": "markdown",
   "metadata": {},
   "source": [
    "#### - Inserts an user to specified chat into dabase. We make a test with *'userTest'* and the chat created above. It should return a message that the user was already inserted into that chat."
   ]
  },
  {
   "cell_type": "code",
   "execution_count": 22,
   "metadata": {},
   "outputs": [
    {
     "data": {
      "text/plain": [
       "'User already exists in specified chat'"
      ]
     },
     "execution_count": 22,
     "metadata": {},
     "output_type": "execute_result"
    }
   ],
   "source": [
    "requests.get('http://localhost:5000//insert/user/to/chat/24-02-2020/userTest').text"
   ]
  },
  {
   "cell_type": "markdown",
   "metadata": {},
   "source": [
    "#### - Inserts new message from specified user and to specified chat into dabase. We make a test with *'userTest'*, the chat created above, date and time from today and a message *'Hola, que tal estás'*"
   ]
  },
  {
   "cell_type": "code",
   "execution_count": 24,
   "metadata": {},
   "outputs": [
    {
     "data": {
      "text/plain": [
       "'Message \"Hola, que tal estás\" has been inserted into conversations collection'"
      ]
     },
     "execution_count": 24,
     "metadata": {},
     "output_type": "execute_result"
    }
   ],
   "source": [
    "requests.get('http://localhost:5000//insert/message/24-02-2020/userTest/24-02-2020 13:52/Hola, que tal estás').text"
   ]
  },
  {
   "cell_type": "code",
   "execution_count": 27,
   "metadata": {},
   "outputs": [
    {
     "data": {
      "text/plain": [
       "[{'_id': ObjectId('5e54405f6b1fbfa531e5363b'),\n",
       "  'chat_id': 242,\n",
       "  'conversation_id': 39933,\n",
       "  'datetime': '24-02-2020 13:52',\n",
       "  'message': 'Hola, que tal estás',\n",
       "  'user_id': 15}]"
      ]
     },
     "execution_count": 27,
     "metadata": {},
     "output_type": "execute_result"
    }
   ],
   "source": [
    "# Checks if message was inserted\n",
    "list(conversations.find({'datetime':'24-02-2020 13:52'}))"
   ]
  },
  {
   "cell_type": "markdown",
   "metadata": {},
   "source": [
    "#### - Returns a list from database with all users created"
   ]
  },
  {
   "cell_type": "code",
   "execution_count": 28,
   "metadata": {},
   "outputs": [
    {
     "data": {
      "text/plain": [
       "['Alvarito',\n",
       " 'Alvaro',\n",
       " 'Antoñito',\n",
       " 'Chema',\n",
       " 'Eku',\n",
       " 'Fonseca',\n",
       " 'Ivan',\n",
       " 'Jorge',\n",
       " 'Jose',\n",
       " 'Juli',\n",
       " 'Laura',\n",
       " 'Marlena',\n",
       " 'Pete',\n",
       " 'Pinedo',\n",
       " 'Rafa',\n",
       " 'userTest']"
      ]
     },
     "execution_count": 28,
     "metadata": {},
     "output_type": "execute_result"
    }
   ],
   "source": [
    "requests.get('http://localhost:5000//get/info/users').json()"
   ]
  },
  {
   "cell_type": "markdown",
   "metadata": {},
   "source": [
    "#### - Returns a string from database with all chats created. The chats creation is based on the date that conversation took place, therefore, any chat will have an unique date."
   ]
  },
  {
   "cell_type": "code",
   "execution_count": 29,
   "metadata": {},
   "outputs": [
    {
     "data": {
      "text/plain": [
       "'[\"1-1-20\", \"1-10-19\", \"1-11-19\", \"1-12-19\", \"1-2-20\", \"1-7-19\", \"1-8-19\", \"1-9-19\", \"10-1-20\", \"10-10-19\", \"10-11-19\", \"10-12-19\", \"10-2-20\", \"10-7-19\", \"10-8-19\", \"10-9-19\", \"11-1-20\", \"11-10-19\", \"11-11-19\", \"11-12-19\", \"11-2-20\", \"11-7-19\", \"11-8-19\", \"11-9-19\", \"12-1-20\", \"12-10-19\", \"12-11-19\", \"12-12-19\", \"12-2-20\", \"12-7-19\", \"12-8-19\", \"12-9-19\", \"13-1-20\", \"13-10-19\", \"13-11-19\", \"13-12-19\", \"13-2-20\", \"13-7-19\", \"13-8-19\", \"13-9-19\", \"14-1-20\", \"14-10-19\", \"14-11-19\", \"14-12-19\", \"14-2-20\", \"14-7-19\", \"14-8-19\", \"14-9-19\", \"15-1-20\", \"15-10-19\", \"15-11-19\", \"15-12-19\", \"15-2-20\", \"15-7-19\", \"15-8-19\", \"15-9-19\", \"16-1-20\", \"16-10-19\", \"16-11-19\", \"16-12-19\", \"16-2-20\", \"16-7-19\", \"16-8-19\", \"16-9-19\", \"17-1-20\", \"17-10-19\", \"17-11-19\", \"17-12-19\", \"17-2-20\", \"17-7-19\", \"17-8-19\", \"17-9-19\", \"18-1-20\", \"18-10-19\", \"18-11-19\", \"18-12-19\", \"18-2-20\", \"18-7-19\", \"18-8-19\", \"18-9-19\", \"19-1-20\", \"19-10-19\", \"19-11-19\", \"19-12-19\", \"19-2-20\", \"19-7-19\", \"19-8-19\", \"19-9-19\", \"2-1-20\", \"2-10-19\", \"2-11-19\", \"2-12-19\", \"2-2-20\", \"2-7-19\", \"2-8-19\", \"2-9-19\", \"20-1-20\", \"20-10-19\", \"20-11-19\", \"20-12-19\", \"20-2-20\", \"20-7-19\", \"20-8-19\", \"20-9-19\", \"21-1-20\", \"21-10-19\", \"21-11-19\", \"21-12-19\", \"21-2-20\", \"21-7-19\", \"21-8-19\", \"21-9-19\", \"22-1-20\", \"22-10-19\", \"22-11-19\", \"22-12-19\", \"22-7-19\", \"22-8-19\", \"22-9-19\", \"23-1-20\", \"23-10-19\", \"23-11-19\", \"23-12-19\", \"23-7-19\", \"23-8-19\", \"23-9-19\", \"24-02-2020\", \"24-1-20\", \"24-10-19\", \"24-11-19\", \"24-12-19\", \"24-7-19\", \"24-8-19\", \"24-9-19\", \"25-1-20\", \"25-10-19\", \"25-11-19\", \"25-12-19\", \"25-6-19\", \"25-7-19\", \"25-8-19\", \"25-9-19\", \"26-1-20\", \"26-10-19\", \"26-11-19\", \"26-12-19\", \"26-6-19\", \"26-7-19\", \"26-8-19\", \"26-9-19\", \"27-1-20\", \"27-10-19\", \"27-11-19\", \"27-12-19\", \"27-6-19\", \"27-7-19\", \"27-8-19\", \"27-9-19\", \"28-1-20\", \"28-10-19\", \"28-11-19\", \"28-12-19\", \"28-6-19\", \"28-7-19\", \"28-8-19\", \"28-9-19\", \"29-1-20\", \"29-10-19\", \"29-11-19\", \"29-12-19\", \"29-6-19\", \"29-7-19\", \"29-8-19\", \"29-9-19\", \"3-1-20\", \"3-10-19\", \"3-11-19\", \"3-12-19\", \"3-2-20\", \"3-7-19\", \"3-8-19\", \"3-9-19\", \"30-1-20\", \"30-10-19\", \"30-11-19\", \"30-12-19\", \"30-6-19\", \"30-7-19\", \"30-8-19\", \"30-9-19\", \"31-1-20\", \"31-10-19\", \"31-12-19\", \"31-7-19\", \"31-8-19\", \"4-1-20\", \"4-10-19\", \"4-11-19\", \"4-12-19\", \"4-2-20\", \"4-7-19\", \"4-8-19\", \"4-9-19\", \"5-1-20\", \"5-10-19\", \"5-11-19\", \"5-12-19\", \"5-2-20\", \"5-7-19\", \"5-8-19\", \"5-9-19\", \"6-1-20\", \"6-10-19\", \"6-11-19\", \"6-12-19\", \"6-2-20\", \"6-7-19\", \"6-8-19\", \"6-9-19\", \"7-1-20\", \"7-10-19\", \"7-11-19\", \"7-12-19\", \"7-2-20\", \"7-7-19\", \"7-8-19\", \"7-9-19\", \"8-1-20\", \"8-10-19\", \"8-11-19\", \"8-12-19\", \"8-2-20\", \"8-7-19\", \"8-8-19\", \"8-9-19\", \"9-1-20\", \"9-10-19\", \"9-11-19\", \"9-12-19\", \"9-2-20\", \"9-7-19\", \"9-8-19\", \"9-9-19\"]'"
      ]
     },
     "execution_count": 29,
     "metadata": {},
     "output_type": "execute_result"
    }
   ],
   "source": [
    "requests.get('http://localhost:5000//get/info/chats').text"
   ]
  },
  {
   "cell_type": "markdown",
   "metadata": {},
   "source": [
    "#### - Returns the user id, conversation id, date and time of posting and the messages posted in specified chat. We make a test with the chat created above."
   ]
  },
  {
   "cell_type": "code",
   "execution_count": 30,
   "metadata": {},
   "outputs": [
    {
     "data": {
      "text/plain": [
       "[{'conversation_id': 39933,\n",
       "  'datetime': '24-02-2020 13:52',\n",
       "  'message': 'Hola, que tal estás',\n",
       "  'user_id': 15}]"
      ]
     },
     "execution_count": 30,
     "metadata": {},
     "output_type": "execute_result"
    }
   ],
   "source": [
    "requests.get('http://localhost:5000//get/info/24-02-2020').json()"
   ]
  },
  {
   "cell_type": "markdown",
   "metadata": {},
   "source": [
    "#### - Returns all the messages that a specified user has wrote in any chat. We make a tes with 'userTest'"
   ]
  },
  {
   "cell_type": "code",
   "execution_count": 31,
   "metadata": {},
   "outputs": [
    {
     "data": {
      "text/plain": [
       "[{'message': 'Hola, que tal estás'}]"
      ]
     },
     "execution_count": 31,
     "metadata": {},
     "output_type": "execute_result"
    }
   ],
   "source": [
    "requests.get('http://localhost:5000//get/messages/userTest').json()"
   ]
  },
  {
   "cell_type": "markdown",
   "metadata": {},
   "source": [
    "#### - Returns the analysis of sentiment for given chat. We make a test with a random chat and for the two possibilities that our API gives us."
   ]
  },
  {
   "cell_type": "code",
   "execution_count": 53,
   "metadata": {},
   "outputs": [
    {
     "data": {
      "text/plain": [
       "'17-2-20'"
      ]
     },
     "execution_count": 53,
     "metadata": {},
     "output_type": "execute_result"
    }
   ],
   "source": [
    "chat = random.choice(requests.get('http://localhost:5000//get/info/chats').json())\n",
    "chat"
   ]
  },
  {
   "cell_type": "code",
   "execution_count": 54,
   "metadata": {},
   "outputs": [
    {
     "data": {
      "text/plain": [
       "{'Negativity': '6.84%',\n",
       " 'Neutrality': '93.05%',\n",
       " 'Overall': 'NEUTRAL',\n",
       " 'Positivity': '0.11%'}"
      ]
     },
     "execution_count": 54,
     "metadata": {},
     "output_type": "execute_result"
    }
   ],
   "source": [
    "requests.get(f'http://localhost:5000//get/sentiments/from/{chat}').json()"
   ]
  },
  {
   "cell_type": "code",
   "execution_count": 55,
   "metadata": {},
   "outputs": [
    {
     "data": {
      "text/plain": [
       "'Chat Overall Rated As NEUTRAL'"
      ]
     },
     "execution_count": 55,
     "metadata": {},
     "output_type": "execute_result"
    }
   ],
   "source": [
    "requests.get(f'http://localhost:5000//get/sentiments/from/spanish/{chat}').text"
   ]
  },
  {
   "cell_type": "markdown",
   "metadata": {},
   "source": [
    "#### - Given an user, returns the users with value of similarity. We make a test with *'Marlena'* user."
   ]
  },
  {
   "cell_type": "code",
   "execution_count": 57,
   "metadata": {},
   "outputs": [
    {
     "data": {
      "text/plain": [
       "{'Alvarito': 0.9263311189974048,\n",
       " 'Alvaro': 0.898908492414589,\n",
       " 'Antoñito': 0.908956235655821,\n",
       " 'Chema': 0.8847164644052554,\n",
       " 'Eku': 0.9317217288388748,\n",
       " 'Fonseca': 0.8924222403736669,\n",
       " 'Ivan': 0.894794478247144,\n",
       " 'Jorge': 0.9161181523356478,\n",
       " 'Jose': 0.9582300530874728,\n",
       " 'Juli': 0.8909607675737946,\n",
       " 'Laura': 0.9265105558412053,\n",
       " 'Pete': 0.9577814388294082,\n",
       " 'Pinedo': 0.9024931669391589,\n",
       " 'Rafa': 0.9274420651045412,\n",
       " 'userTest': 0.9984733639237724}"
      ]
     },
     "execution_count": 57,
     "metadata": {},
     "output_type": "execute_result"
    }
   ],
   "source": [
    "requests.get(f'http://localhost:5000//recommend/user/Marlena').json()"
   ]
  },
  {
   "cell_type": "code",
   "execution_count": 3,
   "metadata": {},
   "outputs": [],
   "source": [
    "a = {'Alvarito': 0.9263311189974048,\n",
    " 'Alvaro': 0.898908492414589,\n",
    " 'Antoñito': 0.908956235655821,\n",
    " 'Chema': 0.8847164644052554,\n",
    " 'Eku': 0.9317217288388748,\n",
    " 'Fonseca': 0.8924222403736669,\n",
    " 'Ivan': 0.894794478247144,\n",
    " 'Jorge': 0.9161181523356478,\n",
    " 'Jose': 0.9582300530874728,\n",
    " 'Juli': 0.8909607675737946,\n",
    " 'Laura': 0.9265105558412053,\n",
    " 'Pete': 0.9577814388294082,\n",
    " 'Pinedo': 0.9024931669391589,\n",
    " 'Rafa': 0.9274420651045412,\n",
    " 'userTest': 0.9984733639237724}"
   ]
  },
  {
   "cell_type": "code",
   "execution_count": 15,
   "metadata": {},
   "outputs": [
    {
     "data": {
      "text/plain": [
       "[('userTest', 0.9984733639237724),\n",
       " ('Jose', 0.9582300530874728),\n",
       " ('Pete', 0.9577814388294082),\n",
       " ('Eku', 0.9317217288388748),\n",
       " ('Rafa', 0.9274420651045412),\n",
       " ('Laura', 0.9265105558412053),\n",
       " ('Alvarito', 0.9263311189974048),\n",
       " ('Jorge', 0.9161181523356478),\n",
       " ('Antoñito', 0.908956235655821),\n",
       " ('Pinedo', 0.9024931669391589),\n",
       " ('Alvaro', 0.898908492414589),\n",
       " ('Ivan', 0.894794478247144),\n",
       " ('Fonseca', 0.8924222403736669),\n",
       " ('Juli', 0.8909607675737946),\n",
       " ('Chema', 0.8847164644052554)]"
      ]
     },
     "execution_count": 15,
     "metadata": {},
     "output_type": "execute_result"
    }
   ],
   "source": [
    "from operator import itemgetter\n",
    "b = [x for x in a.items()]\n",
    "c = sorted(set([(key,value) for key,value in b]),key=itemgetter(1),reverse=True)\n",
    "c"
   ]
  }
 ],
 "metadata": {
  "kernelspec": {
   "display_name": "Python 3",
   "language": "python",
   "name": "python3"
  },
  "language_info": {
   "codemirror_mode": {
    "name": "ipython",
    "version": 3
   },
   "file_extension": ".py",
   "mimetype": "text/x-python",
   "name": "python",
   "nbconvert_exporter": "python",
   "pygments_lexer": "ipython3",
   "version": "3.6.9"
  }
 },
 "nbformat": 4,
 "nbformat_minor": 2
}
