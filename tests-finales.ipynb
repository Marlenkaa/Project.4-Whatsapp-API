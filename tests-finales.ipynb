{
 "cells": [
  {
   "cell_type": "code",
   "execution_count": 33,
   "metadata": {},
   "outputs": [],
   "source": [
    "import requests\n",
    "import pandas as pd\n",
    "import random\n",
    "from pymongo import MongoClient"
   ]
  },
  {
   "cell_type": "code",
   "execution_count": 34,
   "metadata": {},
   "outputs": [],
   "source": [
    "# Connect to MongoDB\n",
    "client = MongoClient(\"mongodb://localhost:27017/apichat\")\n",
    "\n",
    "# Reading database collections\n",
    "users = client.get_default_database()['users']\n",
    "chats = client.get_default_database()['chats']\n",
    "conversations = client.get_default_database()['conversations']"
   ]
  },
  {
   "cell_type": "markdown",
   "metadata": {},
   "source": [
    "- Creates the hole database in MongoDB as follows:"
   ]
  },
  {
   "cell_type": "code",
   "execution_count": 45,
   "metadata": {},
   "outputs": [
    {
     "data": {
      "text/plain": [
       "'Database created'"
      ]
     },
     "execution_count": 45,
     "metadata": {},
     "output_type": "execute_result"
    }
   ],
   "source": [
    "requests.get('http://localhost:5000//createdatabase').text"
   ]
  },
  {
   "cell_type": "markdown",
   "metadata": {},
   "source": [
    "- Inserts a new user into dabase. We make a test with *'userTest'* name"
   ]
  },
  {
   "cell_type": "code",
   "execution_count": null,
   "metadata": {},
   "outputs": [],
   "source": [
    "requests.get('http://localhost:5000//insert/user/userTest').text"
   ]
  },
  {
   "cell_type": "code",
   "execution_count": null,
   "metadata": {},
   "outputs": [],
   "source": [
    "# Checks if user was created\n",
    "list(users.find({'user_name':'userTest'}))"
   ]
  },
  {
   "cell_type": "markdown",
   "metadata": {},
   "source": [
    "- Inserts a new chat into dabase. We make a test with *'userTest'*"
   ]
  },
  {
   "cell_type": "code",
   "execution_count": null,
   "metadata": {},
   "outputs": [],
   "source": [
    "requests.get('http://localhost:5000//insert/chat/userTest').text"
   ]
  },
  {
   "cell_type": "code",
   "execution_count": null,
   "metadata": {},
   "outputs": [],
   "source": [
    "# Checks if chat with new user was created\n",
    "list(chats.find({'chat_date':'23-02-2020'}))"
   ]
  },
  {
   "cell_type": "markdown",
   "metadata": {},
   "source": [
    "- Inserts an user to specified chat into dabase. We make a test with *'userTest'* and the chat created above. It should return a message that the user was already inserted into that chat."
   ]
  },
  {
   "cell_type": "code",
   "execution_count": null,
   "metadata": {},
   "outputs": [],
   "source": [
    "requests.get('http://localhost:5000//insert/user/to/chat/23-02-2020/userTest').text"
   ]
  },
  {
   "cell_type": "markdown",
   "metadata": {},
   "source": [
    "- Inserts new message from specified user and to specified chat into dabase. We make a test with *'userTest'*, the chat created above, date and time from today and a message *'Hola, que tal estás'*"
   ]
  },
  {
   "cell_type": "code",
   "execution_count": null,
   "metadata": {},
   "outputs": [],
   "source": [
    "requests.get('http://localhost:5000//insert/message/23-02-2020/userTest/23-02-2020 13:52/Hola, que tal estás').text"
   ]
  },
  {
   "cell_type": "code",
   "execution_count": null,
   "metadata": {},
   "outputs": [],
   "source": [
    "# Checks if message was inserted\n",
    "list(converstarions.find({'datetime':'23-02-2020 13:52'}))"
   ]
  },
  {
   "cell_type": "markdown",
   "metadata": {},
   "source": [
    "- Returns a list from database with all users created"
   ]
  },
  {
   "cell_type": "code",
   "execution_count": 13,
   "metadata": {},
   "outputs": [
    {
     "data": {
      "text/plain": [
       "['Alvarito',\n",
       " 'Alvaro',\n",
       " 'Antoñito',\n",
       " 'Chema',\n",
       " 'Eku',\n",
       " 'Fonseca',\n",
       " 'Ivan',\n",
       " 'Jorge',\n",
       " 'Jose',\n",
       " 'Juli',\n",
       " 'Laura',\n",
       " 'Marlena',\n",
       " 'Pete',\n",
       " 'Pinedo',\n",
       " 'Rafa']"
      ]
     },
     "execution_count": 13,
     "metadata": {},
     "output_type": "execute_result"
    }
   ],
   "source": [
    "requests.get('http://localhost:5000//get/info/users').json()"
   ]
  },
  {
   "cell_type": "markdown",
   "metadata": {},
   "source": [
    "- Returns a string from database with all chats created. The chats creation is based on the date that conversation took place, therefore, any chat will have an unique date."
   ]
  },
  {
   "cell_type": "code",
   "execution_count": null,
   "metadata": {},
   "outputs": [],
   "source": [
    "requests.get('http://localhost:5000//get/info/chats').text"
   ]
  },
  {
   "cell_type": "markdown",
   "metadata": {},
   "source": [
    "- Returns the user id, conversation id, date and time of posting and the messages posted in specified chat. We make a test with the chat created above."
   ]
  },
  {
   "cell_type": "code",
   "execution_count": null,
   "metadata": {},
   "outputs": [],
   "source": [
    "requests.get('http://localhost:5000//get/info/23-02-2020').json()"
   ]
  },
  {
   "cell_type": "markdown",
   "metadata": {},
   "source": [
    "- Returns all the messages that a specified user has wrote in any chat."
   ]
  },
  {
   "cell_type": "code",
   "execution_count": 18,
   "metadata": {},
   "outputs": [
    {
     "data": {
      "text/plain": [
       "[{'message': 'Y el seguro ese de tu madre que me pagan por parir'},\n",
       " {'message': '<Multimedia omitido>'},\n",
       " {'message': '<Multimedia omitido>'},\n",
       " {'message': '<Multimedia omitido>'},\n",
       " {'message': '<Multimedia omitido>'},\n",
       " {'message': 'Puta eso son cuernos'},\n",
       " {'message': 'Que dices caramierda'},\n",
       " {'message': 'A pete le encanta ver las noticias/programas nauseabundos para aumentar sus riesgos de infartito progresivamente'},\n",
       " {'message': 'Cada vez que entro en casa le esta gritando a la tele'},\n",
       " {'message': 'Eso digo yo, pero es su droga'},\n",
       " {'message': 'Totalmente jajaja'},\n",
       " {'message': 'Jajaja no cuentes cosas!!!'},\n",
       " {'message': 'Pues de igual manera yo digo lo que me sale de mas pelotas'},\n",
       " {'message': 'Aqui y donde sea'},\n",
       " {'message': '//youtu.be/72Rh4Cgu8ak'},\n",
       " {'message': '//m.forocoches.com/foro/showthread.php?t=7306204'},\n",
       " {'message': 'Me da que se pensaba que era la entrada de un parking subterráneo, como si lo viera.'},\n",
       " {'message': 'Din en first page'},\n",
       " {'message': 'Avistado pascual en eva peron donde la parada de bus pidiendo un cigarro'},\n",
       " {'message': 'Jajajajajaj'},\n",
       " {'message': 'Si no se va a currar al día siguiente, así yo también'},\n",
       " {'message': 'Buenooooooo no sabes lo que has hecho alvarito'},\n",
       " {'message': 'Ahora todas las tazas de casa van a ser fassistas'},\n",
       " {'message': '<Multimedia omitido>'},\n",
       " {'message': '<Multimedia omitido>'},\n",
       " {'message': '<Multimedia omitido>'},\n",
       " {'message': '<Multimedia omitido>'},\n",
       " {'message': '<Multimedia omitido>'},\n",
       " {'message': '<Multimedia omitido>'},\n",
       " {'message': 'Veto total'},\n",
       " {'message': 'O tu'},\n",
       " {'message': 'Yo estaré ocupada cuidando A MI NUEVO PERRUTO 🐶'},\n",
       " {'message': 'Labrador con pastor belga 😍'},\n",
       " {'message': 'Las va a recoger pete'},\n",
       " {'message': 'Y cuando no, también'},\n",
       " {'message': '5'},\n",
       " {'message': 'Y media estoy'},\n",
       " {'message': 'Dejale todos los juguetes y cierra toh'},\n",
       " {'message': 'Solo así aprende'},\n",
       " {'message': 'Oye esto es un coñazo'},\n",
       " {'message': 'Puta mierda de música'},\n",
       " {'message': 'Que alguien relieve al tio este pinchando techno del bershka'},\n",
       " {'message': 'Hostia es verdad jajaja'},\n",
       " {'message': '<Multimedia omitido>'},\n",
       " {'message': 'A tu madre?? Jaja'},\n",
       " {'message': 'Calla que así no me salpica, es bien'},\n",
       " {'message': 'Pareces nuevo'},\n",
       " {'message': 'No'},\n",
       " {'message': '//twitter.com/LTGarlic/status/1176972149858459650?s=08'},\n",
       " {'message': 'Si tu has quedado hoy'},\n",
       " {'message': 'Eliminaste este mensaje'},\n",
       " {'message': 'OS MATO'},\n",
       " {'message': 'Jajajaja'},\n",
       " {'message': '<Multimedia omitido>'},\n",
       " {'message': '@34676808266 ahi lo llevas'},\n",
       " {'message': 'Éstos van a por tus hijos, detenlos!'},\n",
       " {'message': 'Lo mismo os lo reenvío pete'},\n",
       " {'message': 'Pete no cuentes cosas!!'},\n",
       " {'message': 'Usted se calla'},\n",
       " {'message': 'A cambio de su pelo'},\n",
       " {'message': 'Yeps'},\n",
       " {'message': 'A barri más bien jaja'},\n",
       " {'message': 'Tranquilo, que no creo que pase, barrena dice que ya hay gente muy pro y muchos enchufes'},\n",
       " {'message': 'Pero bueno, se intentará, a ver qué pasa'},\n",
       " {'message': 'Puta mare, yo he empezado hoy con el que nos han pasado'},\n",
       " {'message': '@PolishPatriot jaja'},\n",
       " {'message': 'Jajajaja'},\n",
       " {'message': 'Buena piñata'},\n",
       " {'message': 'Eliminaste este mensaje'},\n",
       " {'message': 'Jajajaja'},\n",
       " {'message': 'Jajajajaja así sería'},\n",
       " {'message': 'Jajajaja'},\n",
       " {'message': 'Si tiene esa letra, si la pongo en la boda'},\n",
       " {'message': 'Yo la mataba ahí mismo a la hija de la grandisima puta'},\n",
       " {'message': 'Que mala hostia me ha entrado al verlo, coño'},\n",
       " {'message': 'Que coñazo de hombre de verdad... Que el jueves ya tienes plan!!'},\n",
       " {'message': 'Como una madre tengo que estar detrás'},\n",
       " {'message': 'Agradesida'},\n",
       " {'message': 'Lo veo más negro que los cojones de un grillo'},\n",
       " {'message': 'Voy a echarle un ojo'},\n",
       " {'message': 'Que va'},\n",
       " {'message': '@34619846075 @34677159429 Como resolveriais crear 100 combinaciones de triangulo rectángulo (catetos e hipotenusa)'},\n",
       " {'message': 'Puta si que es fácil, lo estaba complicando yo más de lo que era joder'},\n",
       " {'message': '@34677159429 emborracha otra vez al profesor y que te diga que coño van a preguntar xdd'},\n",
       " {'message': '//www.youtube.com/watch?v=WBXle_X8Ido'},\n",
       " {'message': '//m.facebook.com/story.php?story_fbid=2335084883190993&id=100000685118806&sfnsn=mo&d=n&vh=i'},\n",
       " {'message': 'Temazo'},\n",
       " {'message': 'Joder de lo mejor que he visto jajajaj'},\n",
       " {'message': 'Told ya @34676808266'},\n",
       " {'message': '//www.youtube.com/watch?time_continue=150&v=dj5M4s-cdAw&feature=emb_logo'},\n",
       " {'message': 'Espero que los francesese les revienten el orto, los revienten a trompasos y los caguen a pedos a esos forros de mierda, soretes, trolos reconchudos'},\n",
       " {'message': 'Te agredo ya también para cotillear'},\n",
       " {'message': 'A mi me hace mucha gracia cuando dice que esa no sabe las olas que hay en galicia, que va a llegar muerta jajaja'},\n",
       " {'message': 'Ah pues si los pones tu, eso que me ahorro'},\n",
       " {'message': 'Bien!'},\n",
       " {'message': 'No más mensajitos de moribundo, por favor'},\n",
       " {'message': 'Coño!'},\n",
       " {'message': 'Pero ya es un paso'},\n",
       " {'message': 'Que era?'},\n",
       " {'message': 'Puta mare...'},\n",
       " {'message': 'Sha me desapunte campiooon'},\n",
       " {'message': 'Pues lo mismo tiro con algo de coursera'},\n",
       " {'message': 'No estoy para gastar'},\n",
       " {'message': 'Encima no me han querido aplicar el 10% adicional de monger en el bootcamp'},\n",
       " {'message': 'Hijos de puta'},\n",
       " {'message': 'Machistas!!'},\n",
       " {'message': 'Pues eso'},\n",
       " {'message': 'Jajajajaja nooooooo'},\n",
       " {'message': 'Trauma el nuestro de tener que hurgarle en el orto'},\n",
       " {'message': 'No te preocupes, el pienso lo mantenemos a temperatura ambiente'},\n",
       " {'message': 'Ofrezco dice, cuanto me pagas por hacer de tapsista?'},\n",
       " {'message': 'Feliz año señores!'},\n",
       " {'message': 'Me he perdido'},\n",
       " {'message': 'No jodas jaja'},\n",
       " {'message': 'Nombre?'},\n",
       " {'message': 'Hostia si, acabo de ver tu foto y ya se quien es jajaja'},\n",
       " {'message': 'Joder que coincidencia'},\n",
       " {'message': 'Pete fecunda esto'},\n",
       " {'message': 'Pete ya está echando la primera potita'},\n",
       " {'message': 'Habeis potado todos menos Jorge?'},\n",
       " {'message': 'Eres el macho alfa de la noche entonces'},\n",
       " {'message': 'Pete en calzoncillos'},\n",
       " {'message': 'Me parto jajaja'},\n",
       " {'message': 'Yo voy a empezar a darme el chorro de agua fria al acabar, que me ha molao'},\n",
       " {'message': 'La verdad que el gusto que da ducharse con agua caliente no veo necesidad de quitármelo'},\n",
       " {'message': 'Pero el chorro frio final es bien'},\n",
       " {'message': 'Eso también lo recomiendan, contrastes de temperaturas'},\n",
       " {'message': 'No respires'},\n",
       " {'message': 'Ve bendiciendo el agua'},\n",
       " {'message': 'Quiero ver como le dices que bendiga al perro'},\n",
       " {'message': 'Tenemos de toh'},\n",
       " {'message': 'No!!'},\n",
       " {'message': 'Que me hecho hamija de un TA y así me pone buenas notas'},\n",
       " {'message': '😏'},\n",
       " {'message': 'Coño, la que me presentasteis?'},\n",
       " {'message': 'Nice'},\n",
       " {'message': 'Me acuerdo de una rubia que me dijo felipe que votaba a vox, y me suena que tu luego me preguntaste si melafo jajaja'},\n",
       " {'message': 'Noooooooo'},\n",
       " {'message': '<Multimedia omitido>'},\n",
       " {'message': 'Lo que mola es como suena'},\n",
       " {'message': 'Hola, que tal'},\n",
       " {'message': 'Hola, que tal'}]"
      ]
     },
     "execution_count": 18,
     "metadata": {},
     "output_type": "execute_result"
    }
   ],
   "source": [
    "requests.get('http://localhost:5000//get/messages/Marlena').json()"
   ]
  },
  {
   "cell_type": "markdown",
   "metadata": {},
   "source": [
    "- Returns the analysis of sentiment for given chat. We make a test with a random chat with the two analysis possibilities."
   ]
  },
  {
   "cell_type": "code",
   "execution_count": 9,
   "metadata": {},
   "outputs": [
    {
     "data": {
      "text/plain": [
       "'5-9-19'"
      ]
     },
     "execution_count": 9,
     "metadata": {},
     "output_type": "execute_result"
    }
   ],
   "source": [
    "chat = random.choice(requests.get('http://localhost:5000//get/info/chats').json())\n",
    "chat"
   ]
  },
  {
   "cell_type": "code",
   "execution_count": 10,
   "metadata": {},
   "outputs": [
    {
     "data": {
      "text/plain": [
       "{'Negativity': '4.09%',\n",
       " 'Neutrality': '94.31%',\n",
       " 'Overall': 'NEUTRAL',\n",
       " 'Positivity': '1.6%'}"
      ]
     },
     "execution_count": 10,
     "metadata": {},
     "output_type": "execute_result"
    }
   ],
   "source": [
    "requests.get(f'http://localhost:5000//get/sentiments/from/{chat}').json()"
   ]
  },
  {
   "cell_type": "code",
   "execution_count": 11,
   "metadata": {},
   "outputs": [
    {
     "data": {
      "text/plain": [
       "'Chat Overall Rated As NEUTRAL'"
      ]
     },
     "execution_count": 11,
     "metadata": {},
     "output_type": "execute_result"
    }
   ],
   "source": [
    "requests.get(f'http://localhost:5000//get/sentiments/from/spanish/{chat}').text"
   ]
  },
  {
   "cell_type": "code",
   "execution_count": null,
   "metadata": {},
   "outputs": [],
   "source": []
  },
  {
   "cell_type": "code",
   "execution_count": 2,
   "metadata": {},
   "outputs": [
    {
     "data": {
      "text/plain": [
       "[{'Alvarito': 0.40593504020331955},\n",
       " {'Alvaro': 0.43905815644398055},\n",
       " {'Antoñito': 0.4272909847390273},\n",
       " {'Chema': 0.45713943192949},\n",
       " {'Eku': 0.4003010257924596},\n",
       " {'Fonseca': 0.44801133300017654},\n",
       " {'Ivan': 0.44453387445020714},\n",
       " {'Jorge': 0.4184848081701536},\n",
       " {'Jose': 0.3701784916667779},\n",
       " {'Juli': 0.4492176790544325},\n",
       " {'Laura': 0.4061256302519465},\n",
       " {'Marlena': 0.3280034990698869},\n",
       " {'Pete': 0.37095341676139687},\n",
       " {'Pinedo': 0.43487543295477027},\n",
       " {'Rafa': 0.40435755998284234}]"
      ]
     },
     "execution_count": 2,
     "metadata": {},
     "output_type": "execute_result"
    }
   ],
   "source": [
    "requests.get(f'http://localhost:5000//recommend/user/Marlena').json()"
   ]
  },
  {
   "cell_type": "code",
   "execution_count": 2,
   "metadata": {},
   "outputs": [],
   "source": [
    "res =[{'Alvarito': 0.40593504020331955},\n",
    " {'Alvaro': 0.43905815644398055},\n",
    " {'Antoñito': 0.4272909847390273},\n",
    " {'Chema': 0.45713943192949},\n",
    " {'Eku': 0.4003010257924596},\n",
    " {'Fonseca': 0.44801133300017654},\n",
    " {'Ivan': 0.44453387445020714},\n",
    " {'Jorge': 0.4184848081701536},\n",
    " {'Jose': 0.3701784916667779},\n",
    " {'Juli': 0.4492176790544325},\n",
    " {'Laura': 0.4061256302519465},\n",
    " {'Marlena': 0.3280034990698869},\n",
    " {'Pete': 0.37095341676139687},\n",
    " {'Pinedo': 0.43487543295477027},\n",
    " {'Rafa': 0.40435755998284234}]"
   ]
  },
  {
   "cell_type": "code",
   "execution_count": 3,
   "metadata": {},
   "outputs": [
    {
     "data": {
      "text/plain": [
       "{'Alvarito': 0.40593504020331955,\n",
       " 'Alvaro': 0.43905815644398055,\n",
       " 'Antoñito': 0.4272909847390273,\n",
       " 'Chema': 0.45713943192949,\n",
       " 'Eku': 0.4003010257924596,\n",
       " 'Fonseca': 0.44801133300017654,\n",
       " 'Ivan': 0.44453387445020714,\n",
       " 'Jorge': 0.4184848081701536,\n",
       " 'Jose': 0.3701784916667779,\n",
       " 'Juli': 0.4492176790544325,\n",
       " 'Laura': 0.4061256302519465,\n",
       " 'Marlena': 0.3280034990698869,\n",
       " 'Pete': 0.37095341676139687,\n",
       " 'Pinedo': 0.43487543295477027,\n",
       " 'Rafa': 0.40435755998284234}"
      ]
     },
     "execution_count": 3,
     "metadata": {},
     "output_type": "execute_result"
    }
   ],
   "source": [
    "me = {}\n",
    "for e in res:\n",
    "    me.update(e)\n",
    "me"
   ]
  },
  {
   "cell_type": "code",
   "execution_count": 9,
   "metadata": {},
   "outputs": [
    {
     "data": {
      "text/html": [
       "<div>\n",
       "<style scoped>\n",
       "    .dataframe tbody tr th:only-of-type {\n",
       "        vertical-align: middle;\n",
       "    }\n",
       "\n",
       "    .dataframe tbody tr th {\n",
       "        vertical-align: top;\n",
       "    }\n",
       "\n",
       "    .dataframe thead th {\n",
       "        text-align: right;\n",
       "    }\n",
       "</style>\n",
       "<table border=\"1\" class=\"dataframe\">\n",
       "  <thead>\n",
       "    <tr style=\"text-align: right;\">\n",
       "      <th></th>\n",
       "      <th>Scores</th>\n",
       "    </tr>\n",
       "  </thead>\n",
       "  <tbody>\n",
       "    <tr>\n",
       "      <th>Alvarito</th>\n",
       "      <td>0.405935</td>\n",
       "    </tr>\n",
       "    <tr>\n",
       "      <th>Alvaro</th>\n",
       "      <td>0.439058</td>\n",
       "    </tr>\n",
       "    <tr>\n",
       "      <th>Antoñito</th>\n",
       "      <td>0.427291</td>\n",
       "    </tr>\n",
       "    <tr>\n",
       "      <th>Chema</th>\n",
       "      <td>0.457139</td>\n",
       "    </tr>\n",
       "    <tr>\n",
       "      <th>Eku</th>\n",
       "      <td>0.400301</td>\n",
       "    </tr>\n",
       "    <tr>\n",
       "      <th>Fonseca</th>\n",
       "      <td>0.448011</td>\n",
       "    </tr>\n",
       "    <tr>\n",
       "      <th>Ivan</th>\n",
       "      <td>0.444534</td>\n",
       "    </tr>\n",
       "    <tr>\n",
       "      <th>Jorge</th>\n",
       "      <td>0.418485</td>\n",
       "    </tr>\n",
       "    <tr>\n",
       "      <th>Jose</th>\n",
       "      <td>0.370178</td>\n",
       "    </tr>\n",
       "    <tr>\n",
       "      <th>Juli</th>\n",
       "      <td>0.449218</td>\n",
       "    </tr>\n",
       "    <tr>\n",
       "      <th>Laura</th>\n",
       "      <td>0.406126</td>\n",
       "    </tr>\n",
       "    <tr>\n",
       "      <th>Marlena</th>\n",
       "      <td>0.328003</td>\n",
       "    </tr>\n",
       "    <tr>\n",
       "      <th>Pete</th>\n",
       "      <td>0.370953</td>\n",
       "    </tr>\n",
       "    <tr>\n",
       "      <th>Pinedo</th>\n",
       "      <td>0.434875</td>\n",
       "    </tr>\n",
       "    <tr>\n",
       "      <th>Rafa</th>\n",
       "      <td>0.404358</td>\n",
       "    </tr>\n",
       "  </tbody>\n",
       "</table>\n",
       "</div>"
      ],
      "text/plain": [
       "            Scores\n",
       "Alvarito  0.405935\n",
       "Alvaro    0.439058\n",
       "Antoñito  0.427291\n",
       "Chema     0.457139\n",
       "Eku       0.400301\n",
       "Fonseca   0.448011\n",
       "Ivan      0.444534\n",
       "Jorge     0.418485\n",
       "Jose      0.370178\n",
       "Juli      0.449218\n",
       "Laura     0.406126\n",
       "Marlena   0.328003\n",
       "Pete      0.370953\n",
       "Pinedo    0.434875\n",
       "Rafa      0.404358"
      ]
     },
     "execution_count": 9,
     "metadata": {},
     "output_type": "execute_result"
    }
   ],
   "source": [
    "b = pd.DataFrame(me,index=['Scores']).T\n",
    "b"
   ]
  },
  {
   "cell_type": "code",
   "execution_count": 10,
   "metadata": {},
   "outputs": [],
   "source": [
    "from scipy.spatial.distance import pdist, squareform"
   ]
  },
  {
   "cell_type": "code",
   "execution_count": 11,
   "metadata": {},
   "outputs": [],
   "source": [
    "prueba = pd.DataFrame(1/(1 + squareform(pdist(b, 'euclidean'))),\n",
    "                         index=b.index, columns=b.index)"
   ]
  },
  {
   "cell_type": "code",
   "execution_count": 12,
   "metadata": {},
   "outputs": [
    {
     "data": {
      "text/html": [
       "<div>\n",
       "<style scoped>\n",
       "    .dataframe tbody tr th:only-of-type {\n",
       "        vertical-align: middle;\n",
       "    }\n",
       "\n",
       "    .dataframe tbody tr th {\n",
       "        vertical-align: top;\n",
       "    }\n",
       "\n",
       "    .dataframe thead th {\n",
       "        text-align: right;\n",
       "    }\n",
       "</style>\n",
       "<table border=\"1\" class=\"dataframe\">\n",
       "  <thead>\n",
       "    <tr style=\"text-align: right;\">\n",
       "      <th></th>\n",
       "      <th>Alvarito</th>\n",
       "      <th>Alvaro</th>\n",
       "      <th>Antoñito</th>\n",
       "      <th>Chema</th>\n",
       "      <th>Eku</th>\n",
       "      <th>Fonseca</th>\n",
       "      <th>Ivan</th>\n",
       "      <th>Jorge</th>\n",
       "      <th>Jose</th>\n",
       "      <th>Juli</th>\n",
       "      <th>Laura</th>\n",
       "      <th>Marlena</th>\n",
       "      <th>Pete</th>\n",
       "      <th>Pinedo</th>\n",
       "      <th>Rafa</th>\n",
       "    </tr>\n",
       "  </thead>\n",
       "  <tbody>\n",
       "    <tr>\n",
       "      <th>Alvarito</th>\n",
       "      <td>1.000000</td>\n",
       "      <td>0.967939</td>\n",
       "      <td>0.979091</td>\n",
       "      <td>0.951290</td>\n",
       "      <td>0.994398</td>\n",
       "      <td>0.959623</td>\n",
       "      <td>0.962836</td>\n",
       "      <td>0.987606</td>\n",
       "      <td>0.965478</td>\n",
       "      <td>0.958513</td>\n",
       "      <td>0.999809</td>\n",
       "      <td>0.927703</td>\n",
       "      <td>0.966201</td>\n",
       "      <td>0.971874</td>\n",
       "      <td>0.998425</td>\n",
       "    </tr>\n",
       "    <tr>\n",
       "      <th>Alvaro</th>\n",
       "      <td>0.967939</td>\n",
       "      <td>1.000000</td>\n",
       "      <td>0.988370</td>\n",
       "      <td>0.982240</td>\n",
       "      <td>0.962689</td>\n",
       "      <td>0.991126</td>\n",
       "      <td>0.994554</td>\n",
       "      <td>0.979841</td>\n",
       "      <td>0.935559</td>\n",
       "      <td>0.989943</td>\n",
       "      <td>0.968117</td>\n",
       "      <td>0.900046</td>\n",
       "      <td>0.936238</td>\n",
       "      <td>0.995835</td>\n",
       "      <td>0.966463</td>\n",
       "    </tr>\n",
       "    <tr>\n",
       "      <th>Antoñito</th>\n",
       "      <td>0.979091</td>\n",
       "      <td>0.988370</td>\n",
       "      <td>1.000000</td>\n",
       "      <td>0.971017</td>\n",
       "      <td>0.973719</td>\n",
       "      <td>0.979700</td>\n",
       "      <td>0.983049</td>\n",
       "      <td>0.991271</td>\n",
       "      <td>0.945973</td>\n",
       "      <td>0.978544</td>\n",
       "      <td>0.979273</td>\n",
       "      <td>0.909680</td>\n",
       "      <td>0.946667</td>\n",
       "      <td>0.992473</td>\n",
       "      <td>0.977581</td>\n",
       "    </tr>\n",
       "    <tr>\n",
       "      <th>Chema</th>\n",
       "      <td>0.951290</td>\n",
       "      <td>0.982240</td>\n",
       "      <td>0.971017</td>\n",
       "      <td>1.000000</td>\n",
       "      <td>0.946218</td>\n",
       "      <td>0.990954</td>\n",
       "      <td>0.987551</td>\n",
       "      <td>0.962784</td>\n",
       "      <td>0.919996</td>\n",
       "      <td>0.992141</td>\n",
       "      <td>0.951462</td>\n",
       "      <td>0.885633</td>\n",
       "      <td>0.920653</td>\n",
       "      <td>0.978221</td>\n",
       "      <td>0.949864</td>\n",
       "    </tr>\n",
       "    <tr>\n",
       "      <th>Eku</th>\n",
       "      <td>0.994398</td>\n",
       "      <td>0.962689</td>\n",
       "      <td>0.973719</td>\n",
       "      <td>0.946218</td>\n",
       "      <td>1.000000</td>\n",
       "      <td>0.954462</td>\n",
       "      <td>0.957641</td>\n",
       "      <td>0.982141</td>\n",
       "      <td>0.970758</td>\n",
       "      <td>0.953365</td>\n",
       "      <td>0.994209</td>\n",
       "      <td>0.932577</td>\n",
       "      <td>0.971489</td>\n",
       "      <td>0.966581</td>\n",
       "      <td>0.995960</td>\n",
       "    </tr>\n",
       "    <tr>\n",
       "      <th>Fonseca</th>\n",
       "      <td>0.959623</td>\n",
       "      <td>0.991126</td>\n",
       "      <td>0.979700</td>\n",
       "      <td>0.990954</td>\n",
       "      <td>0.954462</td>\n",
       "      <td>1.000000</td>\n",
       "      <td>0.996535</td>\n",
       "      <td>0.971320</td>\n",
       "      <td>0.927788</td>\n",
       "      <td>0.998795</td>\n",
       "      <td>0.959798</td>\n",
       "      <td>0.892851</td>\n",
       "      <td>0.928455</td>\n",
       "      <td>0.987034</td>\n",
       "      <td>0.958172</td>\n",
       "    </tr>\n",
       "    <tr>\n",
       "      <th>Ivan</th>\n",
       "      <td>0.962836</td>\n",
       "      <td>0.994554</td>\n",
       "      <td>0.983049</td>\n",
       "      <td>0.987551</td>\n",
       "      <td>0.957641</td>\n",
       "      <td>0.996535</td>\n",
       "      <td>1.000000</td>\n",
       "      <td>0.974612</td>\n",
       "      <td>0.930791</td>\n",
       "      <td>0.995338</td>\n",
       "      <td>0.963012</td>\n",
       "      <td>0.895632</td>\n",
       "      <td>0.931463</td>\n",
       "      <td>0.990434</td>\n",
       "      <td>0.961375</td>\n",
       "    </tr>\n",
       "    <tr>\n",
       "      <th>Jorge</th>\n",
       "      <td>0.987606</td>\n",
       "      <td>0.979841</td>\n",
       "      <td>0.991271</td>\n",
       "      <td>0.962784</td>\n",
       "      <td>0.982141</td>\n",
       "      <td>0.971320</td>\n",
       "      <td>0.974612</td>\n",
       "      <td>1.000000</td>\n",
       "      <td>0.953920</td>\n",
       "      <td>0.970183</td>\n",
       "      <td>0.987792</td>\n",
       "      <td>0.917026</td>\n",
       "      <td>0.954625</td>\n",
       "      <td>0.983874</td>\n",
       "      <td>0.986070</td>\n",
       "    </tr>\n",
       "    <tr>\n",
       "      <th>Jose</th>\n",
       "      <td>0.965478</td>\n",
       "      <td>0.935559</td>\n",
       "      <td>0.945973</td>\n",
       "      <td>0.919996</td>\n",
       "      <td>0.970758</td>\n",
       "      <td>0.927788</td>\n",
       "      <td>0.930791</td>\n",
       "      <td>0.953920</td>\n",
       "      <td>1.000000</td>\n",
       "      <td>0.926750</td>\n",
       "      <td>0.965300</td>\n",
       "      <td>0.959532</td>\n",
       "      <td>0.999226</td>\n",
       "      <td>0.939234</td>\n",
       "      <td>0.966951</td>\n",
       "    </tr>\n",
       "    <tr>\n",
       "      <th>Juli</th>\n",
       "      <td>0.958513</td>\n",
       "      <td>0.989943</td>\n",
       "      <td>0.978544</td>\n",
       "      <td>0.992141</td>\n",
       "      <td>0.953365</td>\n",
       "      <td>0.998795</td>\n",
       "      <td>0.995338</td>\n",
       "      <td>0.970183</td>\n",
       "      <td>0.926750</td>\n",
       "      <td>1.000000</td>\n",
       "      <td>0.958688</td>\n",
       "      <td>0.891890</td>\n",
       "      <td>0.927416</td>\n",
       "      <td>0.985861</td>\n",
       "      <td>0.957066</td>\n",
       "    </tr>\n",
       "    <tr>\n",
       "      <th>Laura</th>\n",
       "      <td>0.999809</td>\n",
       "      <td>0.968117</td>\n",
       "      <td>0.979273</td>\n",
       "      <td>0.951462</td>\n",
       "      <td>0.994209</td>\n",
       "      <td>0.959798</td>\n",
       "      <td>0.963012</td>\n",
       "      <td>0.987792</td>\n",
       "      <td>0.965300</td>\n",
       "      <td>0.958688</td>\n",
       "      <td>1.000000</td>\n",
       "      <td>0.927539</td>\n",
       "      <td>0.966023</td>\n",
       "      <td>0.972054</td>\n",
       "      <td>0.998235</td>\n",
       "    </tr>\n",
       "    <tr>\n",
       "      <th>Marlena</th>\n",
       "      <td>0.927703</td>\n",
       "      <td>0.900046</td>\n",
       "      <td>0.909680</td>\n",
       "      <td>0.885633</td>\n",
       "      <td>0.932577</td>\n",
       "      <td>0.892851</td>\n",
       "      <td>0.895632</td>\n",
       "      <td>0.917026</td>\n",
       "      <td>0.959532</td>\n",
       "      <td>0.891890</td>\n",
       "      <td>0.927539</td>\n",
       "      <td>1.000000</td>\n",
       "      <td>0.958819</td>\n",
       "      <td>0.903447</td>\n",
       "      <td>0.929062</td>\n",
       "    </tr>\n",
       "    <tr>\n",
       "      <th>Pete</th>\n",
       "      <td>0.966201</td>\n",
       "      <td>0.936238</td>\n",
       "      <td>0.946667</td>\n",
       "      <td>0.920653</td>\n",
       "      <td>0.971489</td>\n",
       "      <td>0.928455</td>\n",
       "      <td>0.931463</td>\n",
       "      <td>0.954625</td>\n",
       "      <td>0.999226</td>\n",
       "      <td>0.927416</td>\n",
       "      <td>0.966023</td>\n",
       "      <td>0.958819</td>\n",
       "      <td>1.000000</td>\n",
       "      <td>0.939919</td>\n",
       "      <td>0.967676</td>\n",
       "    </tr>\n",
       "    <tr>\n",
       "      <th>Pinedo</th>\n",
       "      <td>0.971874</td>\n",
       "      <td>0.995835</td>\n",
       "      <td>0.992473</td>\n",
       "      <td>0.978221</td>\n",
       "      <td>0.966581</td>\n",
       "      <td>0.987034</td>\n",
       "      <td>0.990434</td>\n",
       "      <td>0.983874</td>\n",
       "      <td>0.939234</td>\n",
       "      <td>0.985861</td>\n",
       "      <td>0.972054</td>\n",
       "      <td>0.903447</td>\n",
       "      <td>0.939919</td>\n",
       "      <td>1.000000</td>\n",
       "      <td>0.970386</td>\n",
       "    </tr>\n",
       "    <tr>\n",
       "      <th>Rafa</th>\n",
       "      <td>0.998425</td>\n",
       "      <td>0.966463</td>\n",
       "      <td>0.977581</td>\n",
       "      <td>0.949864</td>\n",
       "      <td>0.995960</td>\n",
       "      <td>0.958172</td>\n",
       "      <td>0.961375</td>\n",
       "      <td>0.986070</td>\n",
       "      <td>0.966951</td>\n",
       "      <td>0.957066</td>\n",
       "      <td>0.998235</td>\n",
       "      <td>0.929062</td>\n",
       "      <td>0.967676</td>\n",
       "      <td>0.970386</td>\n",
       "      <td>1.000000</td>\n",
       "    </tr>\n",
       "  </tbody>\n",
       "</table>\n",
       "</div>"
      ],
      "text/plain": [
       "          Alvarito    Alvaro  Antoñito     Chema       Eku   Fonseca  \\\n",
       "Alvarito  1.000000  0.967939  0.979091  0.951290  0.994398  0.959623   \n",
       "Alvaro    0.967939  1.000000  0.988370  0.982240  0.962689  0.991126   \n",
       "Antoñito  0.979091  0.988370  1.000000  0.971017  0.973719  0.979700   \n",
       "Chema     0.951290  0.982240  0.971017  1.000000  0.946218  0.990954   \n",
       "Eku       0.994398  0.962689  0.973719  0.946218  1.000000  0.954462   \n",
       "Fonseca   0.959623  0.991126  0.979700  0.990954  0.954462  1.000000   \n",
       "Ivan      0.962836  0.994554  0.983049  0.987551  0.957641  0.996535   \n",
       "Jorge     0.987606  0.979841  0.991271  0.962784  0.982141  0.971320   \n",
       "Jose      0.965478  0.935559  0.945973  0.919996  0.970758  0.927788   \n",
       "Juli      0.958513  0.989943  0.978544  0.992141  0.953365  0.998795   \n",
       "Laura     0.999809  0.968117  0.979273  0.951462  0.994209  0.959798   \n",
       "Marlena   0.927703  0.900046  0.909680  0.885633  0.932577  0.892851   \n",
       "Pete      0.966201  0.936238  0.946667  0.920653  0.971489  0.928455   \n",
       "Pinedo    0.971874  0.995835  0.992473  0.978221  0.966581  0.987034   \n",
       "Rafa      0.998425  0.966463  0.977581  0.949864  0.995960  0.958172   \n",
       "\n",
       "              Ivan     Jorge      Jose      Juli     Laura   Marlena  \\\n",
       "Alvarito  0.962836  0.987606  0.965478  0.958513  0.999809  0.927703   \n",
       "Alvaro    0.994554  0.979841  0.935559  0.989943  0.968117  0.900046   \n",
       "Antoñito  0.983049  0.991271  0.945973  0.978544  0.979273  0.909680   \n",
       "Chema     0.987551  0.962784  0.919996  0.992141  0.951462  0.885633   \n",
       "Eku       0.957641  0.982141  0.970758  0.953365  0.994209  0.932577   \n",
       "Fonseca   0.996535  0.971320  0.927788  0.998795  0.959798  0.892851   \n",
       "Ivan      1.000000  0.974612  0.930791  0.995338  0.963012  0.895632   \n",
       "Jorge     0.974612  1.000000  0.953920  0.970183  0.987792  0.917026   \n",
       "Jose      0.930791  0.953920  1.000000  0.926750  0.965300  0.959532   \n",
       "Juli      0.995338  0.970183  0.926750  1.000000  0.958688  0.891890   \n",
       "Laura     0.963012  0.987792  0.965300  0.958688  1.000000  0.927539   \n",
       "Marlena   0.895632  0.917026  0.959532  0.891890  0.927539  1.000000   \n",
       "Pete      0.931463  0.954625  0.999226  0.927416  0.966023  0.958819   \n",
       "Pinedo    0.990434  0.983874  0.939234  0.985861  0.972054  0.903447   \n",
       "Rafa      0.961375  0.986070  0.966951  0.957066  0.998235  0.929062   \n",
       "\n",
       "              Pete    Pinedo      Rafa  \n",
       "Alvarito  0.966201  0.971874  0.998425  \n",
       "Alvaro    0.936238  0.995835  0.966463  \n",
       "Antoñito  0.946667  0.992473  0.977581  \n",
       "Chema     0.920653  0.978221  0.949864  \n",
       "Eku       0.971489  0.966581  0.995960  \n",
       "Fonseca   0.928455  0.987034  0.958172  \n",
       "Ivan      0.931463  0.990434  0.961375  \n",
       "Jorge     0.954625  0.983874  0.986070  \n",
       "Jose      0.999226  0.939234  0.966951  \n",
       "Juli      0.927416  0.985861  0.957066  \n",
       "Laura     0.966023  0.972054  0.998235  \n",
       "Marlena   0.958819  0.903447  0.929062  \n",
       "Pete      1.000000  0.939919  0.967676  \n",
       "Pinedo    0.939919  1.000000  0.970386  \n",
       "Rafa      0.967676  0.970386  1.000000  "
      ]
     },
     "execution_count": 12,
     "metadata": {},
     "output_type": "execute_result"
    }
   ],
   "source": [
    "prueba"
   ]
  },
  {
   "cell_type": "code",
   "execution_count": 31,
   "metadata": {},
   "outputs": [
    {
     "data": {
      "text/plain": [
       "Laura       0.999809\n",
       "Rafa        0.998425\n",
       "Eku         0.994398\n",
       "Jorge       0.987606\n",
       "Antoñito    0.979091\n",
       "Pinedo      0.971874\n",
       "Alvaro      0.967939\n",
       "Pete        0.966201\n",
       "Jose        0.965478\n",
       "Ivan        0.962836\n",
       "Fonseca     0.959623\n",
       "Juli        0.958513\n",
       "Chema       0.951290\n",
       "Marlena     0.927703\n",
       "Name: Alvarito, dtype: float64"
      ]
     },
     "execution_count": 31,
     "metadata": {},
     "output_type": "execute_result"
    }
   ],
   "source": [
    "similarities = prueba['Alvarito'].sort_values(ascending=False)[1:]\n",
    "similarities"
   ]
  },
  {
   "cell_type": "code",
   "execution_count": 30,
   "metadata": {},
   "outputs": [
    {
     "data": {
      "text/plain": [
       "{'Alvarito': 1.0,\n",
       " 'Alvaro': 0.967938848991019,\n",
       " 'Antoñito': 0.9790905955460848,\n",
       " 'Chema': 0.9512897851938306,\n",
       " 'Eku': 0.9943975498738866,\n",
       " 'Fonseca': 0.9596226369530706,\n",
       " 'Ivan': 0.9628356657314405,\n",
       " 'Jorge': 0.9876057766602094,\n",
       " 'Jose': 0.9654778445889979,\n",
       " 'Juli': 0.9585130268258113,\n",
       " 'Laura': 0.9998094462690179,\n",
       " 'Marlena': 0.9277026989566624,\n",
       " 'Pete': 0.9662007298974177,\n",
       " 'Pinedo': 0.9718735964149855,\n",
       " 'Rafa': 0.9984250043040803}"
      ]
     },
     "execution_count": 30,
     "metadata": {},
     "output_type": "execute_result"
    }
   ],
   "source": [
    "dict(prueba['Alvarito'])"
   ]
  }
 ],
 "metadata": {
  "kernelspec": {
   "display_name": "Python 3",
   "language": "python",
   "name": "python3"
  },
  "language_info": {
   "codemirror_mode": {
    "name": "ipython",
    "version": 3
   },
   "file_extension": ".py",
   "mimetype": "text/x-python",
   "name": "python",
   "nbconvert_exporter": "python",
   "pygments_lexer": "ipython3",
   "version": "3.6.9"
  }
 },
 "nbformat": 4,
 "nbformat_minor": 2
}
